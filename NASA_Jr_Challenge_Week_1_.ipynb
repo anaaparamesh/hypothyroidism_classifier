{
  "nbformat": 4,
  "nbformat_minor": 0,
  "metadata": {
    "colab": {
      "name": "NASA Jr. - Challenge Week 1 .ipynb",
      "provenance": [],
      "collapsed_sections": []
    },
    "kernelspec": {
      "display_name": "Python 3",
      "language": "python",
      "name": "python3"
    },
    "language_info": {
      "codemirror_mode": {
        "name": "ipython",
        "version": 3
      },
      "file_extension": ".py",
      "mimetype": "text/x-python",
      "name": "python",
      "nbconvert_exporter": "python",
      "pygments_lexer": "ipython3",
      "version": "3.7.3"
    }
  },
  "cells": [
    {
      "cell_type": "markdown",
      "metadata": {
        "id": "XQDE8pPCpFRb"
      },
      "source": [
        "# Week 1 Challenge Project\n",
        "---\n",
        "Hypothyroidism, also called underactive thyroid or low thyroid, is a disorder of the endocrine system in which the thyroid gland does not produce enough thyroid hormone. It can cause a number of symptoms, such as poor ability to tolerate cold, a feeling of tiredness, constipation, depression, and weight gain. Occasionally there may be swelling of the front part of the neck due to goitre. Untreated hypothyroidism during pregnancy can lead to delays in growth and intellectual development in the baby or cretinism.\n",
        "\n",
        "Worldwide, too little iodine in the diet is the most common cause of hypothyroidism. In countries with enough iodine in the diet, the most common cause of hypothyroidism is the autoimmune condition Hashimoto's thyroiditis. Less common causes include: previous treatment with radioactive iodine, injury to the hypothalamus or the anterior pituitary gland, certain medications, a lack of a functioning thyroid at birth, or previous thyroid surgery. The diagnosis of hypothyroidism, when suspected, can be confirmed with blood tests measuring thyroid-stimulating hormone (TSH) and thyroxine levels.\n",
        "\n",
        "Worldwide about one billion people are estimated to be iodine deficient; however, it is unknown how often this results in hypothyroidism. In the United States, hypothyroidism occurs in 0.3–0.4% of people.\n",
        "\n",
        "And that is why we iodize salt.\n",
        "\n",
        "![alt text](https://www.mayoclinic.org/-/media/kcms/gbs/patient-consumer/images/2013/11/15/17/39/ds00181_-ds00344_-ds00353_-ds00491_-ds00492_-ds00567_-ds00660_-my00709_im01872_thyroid_gif.jpg)\n",
        "\n"
      ]
    },
    {
      "cell_type": "markdown",
      "metadata": {
        "id": "OFF1-BLiSLZ8"
      },
      "source": [
        "Background: Doctors all around the world need our help to predict whether a patient has hypothyroid disease. We have already overspent our budget to collect such complete data on about 30 attributes for 2800 patients--a good starting number, but a larger sample would certainly be preferred. Moving forward, however, we simply cannot afford to spend so much money on data collection. Therefore, we also need to determine which attributes are the most meaningful to the predictive models, and cut out the rest that don't contribute much. \n",
        "\n",
        "The boss wants to see a **balanced** model that can predict with a **high sensitivity** and **high specificity** while using a ***low amount of features***. Collecting complete data such as this is very rare, very time-consuming, and often very expensive. By minimizing the number of features, it will optimize future data collection by deciding what needs to be collected, and what doesn't."
      ]
    },
    {
      "cell_type": "markdown",
      "metadata": {
        "id": "HsZB_SGvp4mP"
      },
      "source": [
        "## Loading the data"
      ]
    },
    {
      "cell_type": "markdown",
      "metadata": {
        "id": "DWrUz9OQ0uAU"
      },
      "source": [
        "Let's read the data into a Pandas dataframe and look at the first 20 records."
      ]
    },
    {
      "cell_type": "code",
      "metadata": {
        "id": "s9AtXQPkzC8j",
        "colab": {
          "base_uri": "https://localhost:8080/",
          "height": 257
        },
        "outputId": "9ba959d1-fa3f-431b-e221-b65c7776a113"
      },
      "source": [
        "import pandas as pd\n",
        "\n",
        "url = \"https://raw.githubusercontent.com/BeaverWorksMedlytics2020/Data_Public/master/ChallengeProjects/Week1/allhypo.train.data.csv\"\n",
        "dataset=pd.read_csv(url) \n",
        "\n",
        "dataset.head()"
      ],
      "execution_count": null,
      "outputs": [
        {
          "output_type": "execute_result",
          "data": {
            "text/html": [
              "<div>\n",
              "<style scoped>\n",
              "    .dataframe tbody tr th:only-of-type {\n",
              "        vertical-align: middle;\n",
              "    }\n",
              "\n",
              "    .dataframe tbody tr th {\n",
              "        vertical-align: top;\n",
              "    }\n",
              "\n",
              "    .dataframe thead th {\n",
              "        text-align: right;\n",
              "    }\n",
              "</style>\n",
              "<table border=\"1\" class=\"dataframe\">\n",
              "  <thead>\n",
              "    <tr style=\"text-align: right;\">\n",
              "      <th></th>\n",
              "      <th>Age</th>\n",
              "      <th>Sex</th>\n",
              "      <th>On thyroxine</th>\n",
              "      <th>query on thyroxine</th>\n",
              "      <th>on antithyroid medication</th>\n",
              "      <th>sick</th>\n",
              "      <th>pregnant</th>\n",
              "      <th>thyroid surgery</th>\n",
              "      <th>I131 treatment</th>\n",
              "      <th>query hypothyroid</th>\n",
              "      <th>query hyperthyroid</th>\n",
              "      <th>lithium</th>\n",
              "      <th>goitre</th>\n",
              "      <th>tumor</th>\n",
              "      <th>psych</th>\n",
              "      <th>TSH measured</th>\n",
              "      <th>TSH</th>\n",
              "      <th>T3 measured</th>\n",
              "      <th>T3</th>\n",
              "      <th>TT4 measured</th>\n",
              "      <th>TT4</th>\n",
              "      <th>T4U measured</th>\n",
              "      <th>T4u</th>\n",
              "      <th>FTI measured</th>\n",
              "      <th>FTI</th>\n",
              "      <th>TBG measured</th>\n",
              "      <th>TBG</th>\n",
              "      <th>referral source</th>\n",
              "      <th>class</th>\n",
              "    </tr>\n",
              "  </thead>\n",
              "  <tbody>\n",
              "    <tr>\n",
              "      <th>0</th>\n",
              "      <td>41</td>\n",
              "      <td>F</td>\n",
              "      <td>f</td>\n",
              "      <td>f</td>\n",
              "      <td>f</td>\n",
              "      <td>f</td>\n",
              "      <td>f</td>\n",
              "      <td>f</td>\n",
              "      <td>f</td>\n",
              "      <td>f</td>\n",
              "      <td>f</td>\n",
              "      <td>f</td>\n",
              "      <td>f</td>\n",
              "      <td>f</td>\n",
              "      <td>f</td>\n",
              "      <td>t</td>\n",
              "      <td>1.3</td>\n",
              "      <td>t</td>\n",
              "      <td>2.5</td>\n",
              "      <td>t</td>\n",
              "      <td>125</td>\n",
              "      <td>t</td>\n",
              "      <td>1.14</td>\n",
              "      <td>t</td>\n",
              "      <td>109</td>\n",
              "      <td>f</td>\n",
              "      <td>?</td>\n",
              "      <td>SVHC</td>\n",
              "      <td>negative.|3733</td>\n",
              "    </tr>\n",
              "    <tr>\n",
              "      <th>1</th>\n",
              "      <td>23</td>\n",
              "      <td>F</td>\n",
              "      <td>f</td>\n",
              "      <td>f</td>\n",
              "      <td>f</td>\n",
              "      <td>f</td>\n",
              "      <td>f</td>\n",
              "      <td>f</td>\n",
              "      <td>f</td>\n",
              "      <td>f</td>\n",
              "      <td>f</td>\n",
              "      <td>f</td>\n",
              "      <td>f</td>\n",
              "      <td>f</td>\n",
              "      <td>f</td>\n",
              "      <td>t</td>\n",
              "      <td>4.1</td>\n",
              "      <td>t</td>\n",
              "      <td>2</td>\n",
              "      <td>t</td>\n",
              "      <td>102</td>\n",
              "      <td>f</td>\n",
              "      <td>?</td>\n",
              "      <td>f</td>\n",
              "      <td>?</td>\n",
              "      <td>f</td>\n",
              "      <td>?</td>\n",
              "      <td>other</td>\n",
              "      <td>negative.|1442</td>\n",
              "    </tr>\n",
              "    <tr>\n",
              "      <th>2</th>\n",
              "      <td>46</td>\n",
              "      <td>M</td>\n",
              "      <td>f</td>\n",
              "      <td>f</td>\n",
              "      <td>f</td>\n",
              "      <td>f</td>\n",
              "      <td>f</td>\n",
              "      <td>f</td>\n",
              "      <td>f</td>\n",
              "      <td>f</td>\n",
              "      <td>f</td>\n",
              "      <td>f</td>\n",
              "      <td>f</td>\n",
              "      <td>f</td>\n",
              "      <td>f</td>\n",
              "      <td>t</td>\n",
              "      <td>0.98</td>\n",
              "      <td>f</td>\n",
              "      <td>?</td>\n",
              "      <td>t</td>\n",
              "      <td>109</td>\n",
              "      <td>t</td>\n",
              "      <td>0.91</td>\n",
              "      <td>t</td>\n",
              "      <td>120</td>\n",
              "      <td>f</td>\n",
              "      <td>?</td>\n",
              "      <td>other</td>\n",
              "      <td>negative.|2965</td>\n",
              "    </tr>\n",
              "    <tr>\n",
              "      <th>3</th>\n",
              "      <td>70</td>\n",
              "      <td>F</td>\n",
              "      <td>t</td>\n",
              "      <td>f</td>\n",
              "      <td>f</td>\n",
              "      <td>f</td>\n",
              "      <td>f</td>\n",
              "      <td>f</td>\n",
              "      <td>f</td>\n",
              "      <td>f</td>\n",
              "      <td>f</td>\n",
              "      <td>f</td>\n",
              "      <td>f</td>\n",
              "      <td>f</td>\n",
              "      <td>f</td>\n",
              "      <td>t</td>\n",
              "      <td>0.16</td>\n",
              "      <td>t</td>\n",
              "      <td>1.9</td>\n",
              "      <td>t</td>\n",
              "      <td>175</td>\n",
              "      <td>f</td>\n",
              "      <td>?</td>\n",
              "      <td>f</td>\n",
              "      <td>?</td>\n",
              "      <td>f</td>\n",
              "      <td>?</td>\n",
              "      <td>other</td>\n",
              "      <td>negative.|806</td>\n",
              "    </tr>\n",
              "    <tr>\n",
              "      <th>4</th>\n",
              "      <td>70</td>\n",
              "      <td>F</td>\n",
              "      <td>f</td>\n",
              "      <td>f</td>\n",
              "      <td>f</td>\n",
              "      <td>f</td>\n",
              "      <td>f</td>\n",
              "      <td>f</td>\n",
              "      <td>f</td>\n",
              "      <td>f</td>\n",
              "      <td>f</td>\n",
              "      <td>f</td>\n",
              "      <td>f</td>\n",
              "      <td>f</td>\n",
              "      <td>f</td>\n",
              "      <td>t</td>\n",
              "      <td>0.72</td>\n",
              "      <td>t</td>\n",
              "      <td>1.2</td>\n",
              "      <td>t</td>\n",
              "      <td>61</td>\n",
              "      <td>t</td>\n",
              "      <td>0.87</td>\n",
              "      <td>t</td>\n",
              "      <td>70</td>\n",
              "      <td>f</td>\n",
              "      <td>?</td>\n",
              "      <td>SVI</td>\n",
              "      <td>negative.|2807</td>\n",
              "    </tr>\n",
              "  </tbody>\n",
              "</table>\n",
              "</div>"
            ],
            "text/plain": [
              "  Age Sex On thyroxine  ... TBG referral source           class\n",
              "0  41   F            f  ...   ?            SVHC  negative.|3733\n",
              "1  23   F            f  ...   ?           other  negative.|1442\n",
              "2  46   M            f  ...   ?           other  negative.|2965\n",
              "3  70   F            t  ...   ?           other   negative.|806\n",
              "4  70   F            f  ...   ?             SVI  negative.|2807\n",
              "\n",
              "[5 rows x 29 columns]"
            ]
          },
          "metadata": {
            "tags": []
          },
          "execution_count": 1
        }
      ]
    },
    {
      "cell_type": "markdown",
      "metadata": {
        "id": "tYhtoqdR6Y3J"
      },
      "source": [
        "Great, looks like the data loaded in properly. Let's continue looking at some summary statistics on our data."
      ]
    },
    {
      "cell_type": "markdown",
      "metadata": {
        "id": "sGKbG-eBqBjF"
      },
      "source": [
        "## Viewing summary statistics\n",
        "The functions describe() and info() are your friends"
      ]
    },
    {
      "cell_type": "code",
      "metadata": {
        "id": "rnp3nN9b6ZNw",
        "colab": {
          "base_uri": "https://localhost:8080/",
          "height": 226
        },
        "outputId": "247eccdc-bbb6-4b7a-8245-c3e94ccc1598"
      },
      "source": [
        "dataset.describe()"
      ],
      "execution_count": null,
      "outputs": [
        {
          "output_type": "execute_result",
          "data": {
            "text/html": [
              "<div>\n",
              "<style scoped>\n",
              "    .dataframe tbody tr th:only-of-type {\n",
              "        vertical-align: middle;\n",
              "    }\n",
              "\n",
              "    .dataframe tbody tr th {\n",
              "        vertical-align: top;\n",
              "    }\n",
              "\n",
              "    .dataframe thead th {\n",
              "        text-align: right;\n",
              "    }\n",
              "</style>\n",
              "<table border=\"1\" class=\"dataframe\">\n",
              "  <thead>\n",
              "    <tr style=\"text-align: right;\">\n",
              "      <th></th>\n",
              "      <th>Age</th>\n",
              "      <th>Sex</th>\n",
              "      <th>On thyroxine</th>\n",
              "      <th>query on thyroxine</th>\n",
              "      <th>on antithyroid medication</th>\n",
              "      <th>sick</th>\n",
              "      <th>pregnant</th>\n",
              "      <th>thyroid surgery</th>\n",
              "      <th>I131 treatment</th>\n",
              "      <th>query hypothyroid</th>\n",
              "      <th>query hyperthyroid</th>\n",
              "      <th>lithium</th>\n",
              "      <th>goitre</th>\n",
              "      <th>tumor</th>\n",
              "      <th>psych</th>\n",
              "      <th>TSH measured</th>\n",
              "      <th>TSH</th>\n",
              "      <th>T3 measured</th>\n",
              "      <th>T3</th>\n",
              "      <th>TT4 measured</th>\n",
              "      <th>TT4</th>\n",
              "      <th>T4U measured</th>\n",
              "      <th>T4u</th>\n",
              "      <th>FTI measured</th>\n",
              "      <th>FTI</th>\n",
              "      <th>TBG measured</th>\n",
              "      <th>TBG</th>\n",
              "      <th>referral source</th>\n",
              "      <th>class</th>\n",
              "    </tr>\n",
              "  </thead>\n",
              "  <tbody>\n",
              "    <tr>\n",
              "      <th>count</th>\n",
              "      <td>2800</td>\n",
              "      <td>2800</td>\n",
              "      <td>2800</td>\n",
              "      <td>2800</td>\n",
              "      <td>2800</td>\n",
              "      <td>2800</td>\n",
              "      <td>2800</td>\n",
              "      <td>2800</td>\n",
              "      <td>2800</td>\n",
              "      <td>2800</td>\n",
              "      <td>2800</td>\n",
              "      <td>2800</td>\n",
              "      <td>2800</td>\n",
              "      <td>2800</td>\n",
              "      <td>2800</td>\n",
              "      <td>2800</td>\n",
              "      <td>2800</td>\n",
              "      <td>2800</td>\n",
              "      <td>2800</td>\n",
              "      <td>2800</td>\n",
              "      <td>2800</td>\n",
              "      <td>2800</td>\n",
              "      <td>2800</td>\n",
              "      <td>2800</td>\n",
              "      <td>2800</td>\n",
              "      <td>2800</td>\n",
              "      <td>2800</td>\n",
              "      <td>2800</td>\n",
              "      <td>2800</td>\n",
              "    </tr>\n",
              "    <tr>\n",
              "      <th>unique</th>\n",
              "      <td>94</td>\n",
              "      <td>3</td>\n",
              "      <td>2</td>\n",
              "      <td>2</td>\n",
              "      <td>2</td>\n",
              "      <td>2</td>\n",
              "      <td>2</td>\n",
              "      <td>2</td>\n",
              "      <td>2</td>\n",
              "      <td>2</td>\n",
              "      <td>2</td>\n",
              "      <td>2</td>\n",
              "      <td>2</td>\n",
              "      <td>2</td>\n",
              "      <td>2</td>\n",
              "      <td>2</td>\n",
              "      <td>264</td>\n",
              "      <td>2</td>\n",
              "      <td>65</td>\n",
              "      <td>2</td>\n",
              "      <td>218</td>\n",
              "      <td>2</td>\n",
              "      <td>139</td>\n",
              "      <td>2</td>\n",
              "      <td>210</td>\n",
              "      <td>1</td>\n",
              "      <td>1</td>\n",
              "      <td>5</td>\n",
              "      <td>2800</td>\n",
              "    </tr>\n",
              "    <tr>\n",
              "      <th>top</th>\n",
              "      <td>59</td>\n",
              "      <td>F</td>\n",
              "      <td>f</td>\n",
              "      <td>f</td>\n",
              "      <td>f</td>\n",
              "      <td>f</td>\n",
              "      <td>f</td>\n",
              "      <td>f</td>\n",
              "      <td>f</td>\n",
              "      <td>f</td>\n",
              "      <td>f</td>\n",
              "      <td>f</td>\n",
              "      <td>f</td>\n",
              "      <td>f</td>\n",
              "      <td>f</td>\n",
              "      <td>t</td>\n",
              "      <td>?</td>\n",
              "      <td>t</td>\n",
              "      <td>?</td>\n",
              "      <td>t</td>\n",
              "      <td>?</td>\n",
              "      <td>t</td>\n",
              "      <td>?</td>\n",
              "      <td>t</td>\n",
              "      <td>?</td>\n",
              "      <td>f</td>\n",
              "      <td>?</td>\n",
              "      <td>other</td>\n",
              "      <td>negative.|1443</td>\n",
              "    </tr>\n",
              "    <tr>\n",
              "      <th>freq</th>\n",
              "      <td>75</td>\n",
              "      <td>1830</td>\n",
              "      <td>2470</td>\n",
              "      <td>2760</td>\n",
              "      <td>2766</td>\n",
              "      <td>2690</td>\n",
              "      <td>2759</td>\n",
              "      <td>2761</td>\n",
              "      <td>2752</td>\n",
              "      <td>2637</td>\n",
              "      <td>2627</td>\n",
              "      <td>2786</td>\n",
              "      <td>2775</td>\n",
              "      <td>2729</td>\n",
              "      <td>2665</td>\n",
              "      <td>2516</td>\n",
              "      <td>284</td>\n",
              "      <td>2215</td>\n",
              "      <td>585</td>\n",
              "      <td>2616</td>\n",
              "      <td>184</td>\n",
              "      <td>2503</td>\n",
              "      <td>297</td>\n",
              "      <td>2505</td>\n",
              "      <td>295</td>\n",
              "      <td>2800</td>\n",
              "      <td>2800</td>\n",
              "      <td>1632</td>\n",
              "      <td>1</td>\n",
              "    </tr>\n",
              "  </tbody>\n",
              "</table>\n",
              "</div>"
            ],
            "text/plain": [
              "         Age   Sex On thyroxine  ...   TBG referral source           class\n",
              "count   2800  2800         2800  ...  2800            2800            2800\n",
              "unique    94     3            2  ...     1               5            2800\n",
              "top       59     F            f  ...     ?           other  negative.|1443\n",
              "freq      75  1830         2470  ...  2800            1632               1\n",
              "\n",
              "[4 rows x 29 columns]"
            ]
          },
          "metadata": {
            "tags": []
          },
          "execution_count": 2
        }
      ]
    },
    {
      "cell_type": "code",
      "metadata": {
        "id": "9QndSspU7lW4",
        "colab": {
          "base_uri": "https://localhost:8080/",
          "height": 641
        },
        "outputId": "8f1b8333-120a-43b3-858c-23e15c238d9a"
      },
      "source": [
        "dataset.info()"
      ],
      "execution_count": null,
      "outputs": [
        {
          "output_type": "stream",
          "text": [
            "<class 'pandas.core.frame.DataFrame'>\n",
            "RangeIndex: 2800 entries, 0 to 2799\n",
            "Data columns (total 29 columns):\n",
            " #   Column                     Non-Null Count  Dtype \n",
            "---  ------                     --------------  ----- \n",
            " 0   Age                        2800 non-null   object\n",
            " 1   Sex                        2800 non-null   object\n",
            " 2   On thyroxine               2800 non-null   object\n",
            " 3   query on thyroxine         2800 non-null   object\n",
            " 4   on antithyroid medication  2800 non-null   object\n",
            " 5   sick                       2800 non-null   object\n",
            " 6   pregnant                   2800 non-null   object\n",
            " 7   thyroid surgery            2800 non-null   object\n",
            " 8   I131 treatment             2800 non-null   object\n",
            " 9   query hypothyroid          2800 non-null   object\n",
            " 10  query hyperthyroid         2800 non-null   object\n",
            " 11  lithium                    2800 non-null   object\n",
            " 12  goitre                     2800 non-null   object\n",
            " 13  tumor                      2800 non-null   object\n",
            " 14  psych                      2800 non-null   object\n",
            " 15  TSH measured               2800 non-null   object\n",
            " 16  TSH                        2800 non-null   object\n",
            " 17  T3 measured                2800 non-null   object\n",
            " 18  T3                         2800 non-null   object\n",
            " 19  TT4 measured               2800 non-null   object\n",
            " 20  TT4                        2800 non-null   object\n",
            " 21  T4U measured               2800 non-null   object\n",
            " 22  T4u                        2800 non-null   object\n",
            " 23  FTI measured               2800 non-null   object\n",
            " 24  FTI                        2800 non-null   object\n",
            " 25  TBG measured               2800 non-null   object\n",
            " 26  TBG                        2800 non-null   object\n",
            " 27  referral source            2800 non-null   object\n",
            " 28  class                      2800 non-null   object\n",
            "dtypes: object(29)\n",
            "memory usage: 634.5+ KB\n"
          ],
          "name": "stdout"
        }
      ]
    },
    {
      "cell_type": "markdown",
      "metadata": {
        "id": "olpFokrp8AIH"
      },
      "source": [
        "Note the data types are all objects--even columns that are obviously numeric like Age.\n"
      ]
    },
    {
      "cell_type": "markdown",
      "metadata": {
        "id": "0emOppVyqQS9"
      },
      "source": [
        "## Data cleaning"
      ]
    },
    {
      "cell_type": "markdown",
      "metadata": {
        "id": "ZRQpnByEWrcx"
      },
      "source": [
        "To start, let's make all the numerical columns contain the correct type of values and change the data type of those columns to numeric. Let's also replace all those question marks with the median of the respective column.\n",
        "\n",
        "Hint: To make it easier, first try converting all the \"?\" to NaN."
      ]
    },
    {
      "cell_type": "code",
      "metadata": {
        "id": "BlTsaK5n5Bg1",
        "colab": {
          "base_uri": "https://localhost:8080/",
          "height": 291
        },
        "outputId": "5a731b7f-694b-4557-d58a-9bce15029c73"
      },
      "source": [
        "import numpy as np\n",
        "\n",
        "# Convert \"?\" to NaN\n",
        "for i in dataset:\n",
        "  dataset[i].replace(to_replace='?', value=np.nan, inplace=True)\n",
        "\n",
        "# Identify columns by what type of data they hold\n",
        "numeric_columns = ['Age','TSH','T3','TT4','T4u','FTI',]\n",
        "categorical_columns = ['Sex', 'On thyroxine', 'query on thyroxine', 'on antithyroid medication', 'sick', \n",
        "                       'pregnant', 'thyroid surgery', 'I131 treatment', 'query hypothyroid',\n",
        "                       'query hyperthyroid', 'lithium', 'goitre', 'tumor', 'psych',\n",
        "                       'TSH measured', 'T3 measured', 'TT4 measured', 'T4U measured',\n",
        "                       'FTI measured', 'referral source', 'class']\n",
        "\n",
        "# Print statement for sanity check\n",
        "print('Numerical Columns: ',numeric_columns)\n",
        "print('Categorical Columns: ',categorical_columns)\n",
        "\n",
        "for i in numeric_columns:\n",
        "    dataset[i].fillna(dataset[i].median(), inplace=True) \n",
        "\n",
        "dataset.head()"
      ],
      "execution_count": null,
      "outputs": [
        {
          "output_type": "stream",
          "text": [
            "Numerical Columns:  ['Age', 'TSH', 'T3', 'TT4', 'T4u', 'FTI']\n",
            "Categorical Columns:  ['Sex', 'On thyroxine', 'query on thyroxine', 'on antithyroid medication', 'sick', 'pregnant', 'thyroid surgery', 'I131 treatment', 'query hypothyroid', 'query hyperthyroid', 'lithium', 'goitre', 'tumor', 'psych', 'TSH measured', 'T3 measured', 'TT4 measured', 'T4U measured', 'FTI measured', 'referral source', 'class']\n"
          ],
          "name": "stdout"
        },
        {
          "output_type": "execute_result",
          "data": {
            "text/html": [
              "<div>\n",
              "<style scoped>\n",
              "    .dataframe tbody tr th:only-of-type {\n",
              "        vertical-align: middle;\n",
              "    }\n",
              "\n",
              "    .dataframe tbody tr th {\n",
              "        vertical-align: top;\n",
              "    }\n",
              "\n",
              "    .dataframe thead th {\n",
              "        text-align: right;\n",
              "    }\n",
              "</style>\n",
              "<table border=\"1\" class=\"dataframe\">\n",
              "  <thead>\n",
              "    <tr style=\"text-align: right;\">\n",
              "      <th></th>\n",
              "      <th>Age</th>\n",
              "      <th>Sex</th>\n",
              "      <th>On thyroxine</th>\n",
              "      <th>query on thyroxine</th>\n",
              "      <th>on antithyroid medication</th>\n",
              "      <th>sick</th>\n",
              "      <th>pregnant</th>\n",
              "      <th>thyroid surgery</th>\n",
              "      <th>I131 treatment</th>\n",
              "      <th>query hypothyroid</th>\n",
              "      <th>query hyperthyroid</th>\n",
              "      <th>lithium</th>\n",
              "      <th>goitre</th>\n",
              "      <th>tumor</th>\n",
              "      <th>psych</th>\n",
              "      <th>TSH measured</th>\n",
              "      <th>TSH</th>\n",
              "      <th>T3 measured</th>\n",
              "      <th>T3</th>\n",
              "      <th>TT4 measured</th>\n",
              "      <th>TT4</th>\n",
              "      <th>T4U measured</th>\n",
              "      <th>T4u</th>\n",
              "      <th>FTI measured</th>\n",
              "      <th>FTI</th>\n",
              "      <th>TBG measured</th>\n",
              "      <th>TBG</th>\n",
              "      <th>referral source</th>\n",
              "      <th>class</th>\n",
              "    </tr>\n",
              "  </thead>\n",
              "  <tbody>\n",
              "    <tr>\n",
              "      <th>0</th>\n",
              "      <td>41</td>\n",
              "      <td>F</td>\n",
              "      <td>f</td>\n",
              "      <td>f</td>\n",
              "      <td>f</td>\n",
              "      <td>f</td>\n",
              "      <td>f</td>\n",
              "      <td>f</td>\n",
              "      <td>f</td>\n",
              "      <td>f</td>\n",
              "      <td>f</td>\n",
              "      <td>f</td>\n",
              "      <td>f</td>\n",
              "      <td>f</td>\n",
              "      <td>f</td>\n",
              "      <td>t</td>\n",
              "      <td>1.3</td>\n",
              "      <td>t</td>\n",
              "      <td>2.5</td>\n",
              "      <td>t</td>\n",
              "      <td>125</td>\n",
              "      <td>t</td>\n",
              "      <td>1.14</td>\n",
              "      <td>t</td>\n",
              "      <td>109</td>\n",
              "      <td>f</td>\n",
              "      <td>NaN</td>\n",
              "      <td>SVHC</td>\n",
              "      <td>negative.|3733</td>\n",
              "    </tr>\n",
              "    <tr>\n",
              "      <th>1</th>\n",
              "      <td>23</td>\n",
              "      <td>F</td>\n",
              "      <td>f</td>\n",
              "      <td>f</td>\n",
              "      <td>f</td>\n",
              "      <td>f</td>\n",
              "      <td>f</td>\n",
              "      <td>f</td>\n",
              "      <td>f</td>\n",
              "      <td>f</td>\n",
              "      <td>f</td>\n",
              "      <td>f</td>\n",
              "      <td>f</td>\n",
              "      <td>f</td>\n",
              "      <td>f</td>\n",
              "      <td>t</td>\n",
              "      <td>4.1</td>\n",
              "      <td>t</td>\n",
              "      <td>2</td>\n",
              "      <td>t</td>\n",
              "      <td>102</td>\n",
              "      <td>f</td>\n",
              "      <td>0.98</td>\n",
              "      <td>f</td>\n",
              "      <td>107</td>\n",
              "      <td>f</td>\n",
              "      <td>NaN</td>\n",
              "      <td>other</td>\n",
              "      <td>negative.|1442</td>\n",
              "    </tr>\n",
              "    <tr>\n",
              "      <th>2</th>\n",
              "      <td>46</td>\n",
              "      <td>M</td>\n",
              "      <td>f</td>\n",
              "      <td>f</td>\n",
              "      <td>f</td>\n",
              "      <td>f</td>\n",
              "      <td>f</td>\n",
              "      <td>f</td>\n",
              "      <td>f</td>\n",
              "      <td>f</td>\n",
              "      <td>f</td>\n",
              "      <td>f</td>\n",
              "      <td>f</td>\n",
              "      <td>f</td>\n",
              "      <td>f</td>\n",
              "      <td>t</td>\n",
              "      <td>0.98</td>\n",
              "      <td>f</td>\n",
              "      <td>2</td>\n",
              "      <td>t</td>\n",
              "      <td>109</td>\n",
              "      <td>t</td>\n",
              "      <td>0.91</td>\n",
              "      <td>t</td>\n",
              "      <td>120</td>\n",
              "      <td>f</td>\n",
              "      <td>NaN</td>\n",
              "      <td>other</td>\n",
              "      <td>negative.|2965</td>\n",
              "    </tr>\n",
              "    <tr>\n",
              "      <th>3</th>\n",
              "      <td>70</td>\n",
              "      <td>F</td>\n",
              "      <td>t</td>\n",
              "      <td>f</td>\n",
              "      <td>f</td>\n",
              "      <td>f</td>\n",
              "      <td>f</td>\n",
              "      <td>f</td>\n",
              "      <td>f</td>\n",
              "      <td>f</td>\n",
              "      <td>f</td>\n",
              "      <td>f</td>\n",
              "      <td>f</td>\n",
              "      <td>f</td>\n",
              "      <td>f</td>\n",
              "      <td>t</td>\n",
              "      <td>0.16</td>\n",
              "      <td>t</td>\n",
              "      <td>1.9</td>\n",
              "      <td>t</td>\n",
              "      <td>175</td>\n",
              "      <td>f</td>\n",
              "      <td>0.98</td>\n",
              "      <td>f</td>\n",
              "      <td>107</td>\n",
              "      <td>f</td>\n",
              "      <td>NaN</td>\n",
              "      <td>other</td>\n",
              "      <td>negative.|806</td>\n",
              "    </tr>\n",
              "    <tr>\n",
              "      <th>4</th>\n",
              "      <td>70</td>\n",
              "      <td>F</td>\n",
              "      <td>f</td>\n",
              "      <td>f</td>\n",
              "      <td>f</td>\n",
              "      <td>f</td>\n",
              "      <td>f</td>\n",
              "      <td>f</td>\n",
              "      <td>f</td>\n",
              "      <td>f</td>\n",
              "      <td>f</td>\n",
              "      <td>f</td>\n",
              "      <td>f</td>\n",
              "      <td>f</td>\n",
              "      <td>f</td>\n",
              "      <td>t</td>\n",
              "      <td>0.72</td>\n",
              "      <td>t</td>\n",
              "      <td>1.2</td>\n",
              "      <td>t</td>\n",
              "      <td>61</td>\n",
              "      <td>t</td>\n",
              "      <td>0.87</td>\n",
              "      <td>t</td>\n",
              "      <td>70</td>\n",
              "      <td>f</td>\n",
              "      <td>NaN</td>\n",
              "      <td>SVI</td>\n",
              "      <td>negative.|2807</td>\n",
              "    </tr>\n",
              "  </tbody>\n",
              "</table>\n",
              "</div>"
            ],
            "text/plain": [
              "  Age Sex On thyroxine  ... TBG referral source           class\n",
              "0  41   F            f  ... NaN            SVHC  negative.|3733\n",
              "1  23   F            f  ... NaN           other  negative.|1442\n",
              "2  46   M            f  ... NaN           other  negative.|2965\n",
              "3  70   F            t  ... NaN           other   negative.|806\n",
              "4  70   F            f  ... NaN             SVI  negative.|2807\n",
              "\n",
              "[5 rows x 29 columns]"
            ]
          },
          "metadata": {
            "tags": []
          },
          "execution_count": 4
        }
      ]
    },
    {
      "cell_type": "markdown",
      "metadata": {
        "id": "HZo7iKHUD3DG"
      },
      "source": [
        "Hmm, still looks like the TBG columns are unfilled, implying they were empty to begin with. Let's get rid of these columns, then (and make sure to get rid of it in your list of categorical/numeric columns, too!)"
      ]
    },
    {
      "cell_type": "code",
      "metadata": {
        "id": "yAe5FIFkD25f"
      },
      "source": [
        "## YOUR CODE HERE\n",
        "dataset.drop(['TBG'], axis = 1, inplace=True)\n",
        "dataset.drop(['TBG measured'], axis = 1, inplace=True)"
      ],
      "execution_count": null,
      "outputs": []
    },
    {
      "cell_type": "markdown",
      "metadata": {
        "id": "DTjWD_ddCHsA"
      },
      "source": [
        "All right, let's take a look now at the info of *just the numeric columns* in the dataset:"
      ]
    },
    {
      "cell_type": "code",
      "metadata": {
        "id": "00OaxCAbzRvA",
        "colab": {
          "base_uri": "https://localhost:8080/",
          "height": 243
        },
        "outputId": "9e497a01-35b0-4c30-e087-a4fb4ca4f2ad"
      },
      "source": [
        "dataset[numeric_columns].info()"
      ],
      "execution_count": null,
      "outputs": [
        {
          "output_type": "stream",
          "text": [
            "<class 'pandas.core.frame.DataFrame'>\n",
            "RangeIndex: 2800 entries, 0 to 2799\n",
            "Data columns (total 6 columns):\n",
            " #   Column  Non-Null Count  Dtype \n",
            "---  ------  --------------  ----- \n",
            " 0   Age     2800 non-null   object\n",
            " 1   TSH     2800 non-null   object\n",
            " 2   T3      2800 non-null   object\n",
            " 3   TT4     2800 non-null   object\n",
            " 4   T4u     2800 non-null   object\n",
            " 5   FTI     2800 non-null   object\n",
            "dtypes: object(6)\n",
            "memory usage: 131.4+ KB\n"
          ],
          "name": "stdout"
        }
      ]
    },
    {
      "cell_type": "markdown",
      "metadata": {
        "id": "XOzcRX-5YRvz"
      },
      "source": [
        "Perfect!  Now let's see what's going on with the \"class\" column.... According to the note the data collectors included with this data, the \".|####\" refers to a patient number, and is not necessarily relevant for our purposes here.  Let's turn the \"class\" column into a useful multi-class label."
      ]
    },
    {
      "cell_type": "code",
      "metadata": {
        "id": "QFmeyRcGYR7s"
      },
      "source": [
        "import re\n",
        "## YOUR CODE HERE\n",
        "#gets rid of the patient numbers from class column\n",
        "count=0\n",
        "for i in dataset['class']:\n",
        "  dataset['class'][count] = re.sub(\"[.|].[0-9]*\", \"\", i)\n",
        "  count+=1"
      ],
      "execution_count": null,
      "outputs": []
    },
    {
      "cell_type": "markdown",
      "metadata": {
        "id": "KYOwWnpqhQvd"
      },
      "source": [
        "Let's run the describe() function on just the \"class\" column."
      ]
    },
    {
      "cell_type": "code",
      "metadata": {
        "id": "cq_v45R8hP5A",
        "colab": {
          "base_uri": "https://localhost:8080/",
          "height": 104
        },
        "outputId": "ffcb8971-e155-40bb-cc7d-63be0d02c0c4"
      },
      "source": [
        "dataset['class'].describe()"
      ],
      "execution_count": null,
      "outputs": [
        {
          "output_type": "execute_result",
          "data": {
            "text/plain": [
              "count         2800\n",
              "unique           4\n",
              "top       negative\n",
              "freq          2580\n",
              "Name: class, dtype: object"
            ]
          },
          "metadata": {
            "tags": []
          },
          "execution_count": 8
        }
      ]
    },
    {
      "cell_type": "markdown",
      "metadata": {
        "id": "m6S7Y6VXhYct"
      },
      "source": [
        "It looks like there are actually 4 unique classification variables! Thank goodness we didn't assume it was binary.\n",
        "\n",
        "Display all the unique values in the class column."
      ]
    },
    {
      "cell_type": "code",
      "metadata": {
        "id": "oH0fTzzvE-oF",
        "colab": {
          "base_uri": "https://localhost:8080/",
          "height": 52
        },
        "outputId": "9a11d50b-a1c3-49c9-d64c-24c541a330d7"
      },
      "source": [
        "## YOUR CODE HERE\n",
        "dataset['class'].unique()"
      ],
      "execution_count": null,
      "outputs": [
        {
          "output_type": "execute_result",
          "data": {
            "text/plain": [
              "array(['negative', 'compensated hypothyroid', 'primary hypothyroid',\n",
              "       'secondary hypothyroid'], dtype=object)"
            ]
          },
          "metadata": {
            "tags": []
          },
          "execution_count": 9
        }
      ]
    },
    {
      "cell_type": "markdown",
      "metadata": {
        "id": "aBrmRJHakpWm"
      },
      "source": [
        "But let's make it binary for the sake of this example anyway. If you finish early later on Thursday/Friday, try the multiclass classifier with all 4 values!"
      ]
    },
    {
      "cell_type": "code",
      "metadata": {
        "id": "HwqVoUFTkoa0"
      },
      "source": [
        "## YOUR CODE HERE\n",
        "#changes negative to 0 and all three positive cases to 1\n",
        "dataset.replace(\"negative\",0, inplace=True)\n",
        "dataset.replace(['compensated hypothyroid', 'primary hypothyroid',\n",
        "       'secondary hypothyroid'],1, inplace=True)"
      ],
      "execution_count": null,
      "outputs": []
    },
    {
      "cell_type": "markdown",
      "metadata": {
        "id": "jbgWOvekhluw"
      },
      "source": [
        "Before we move on, let's not forget to run the describe() function on just  your categorical columns, too.\n",
        "Compare it to the describe() that your numeric columns produce."
      ]
    },
    {
      "cell_type": "code",
      "metadata": {
        "id": "WHAZCbNAc5KT",
        "colab": {
          "base_uri": "https://localhost:8080/",
          "height": 243
        },
        "outputId": "04071432-d1d2-4f27-e2ca-6eadd118bfbb"
      },
      "source": [
        "### Your code here\n",
        "if ('class' not in numeric_columns):\n",
        "  numeric_columns.append('class')\n",
        "print(numeric_columns)\n",
        "if ('class' in categorical_columns):\n",
        "  categorical_columns.remove('class')\n",
        "dataset[categorical_columns].describe()\n"
      ],
      "execution_count": null,
      "outputs": [
        {
          "output_type": "stream",
          "text": [
            "['Age', 'TSH', 'T3', 'TT4', 'T4u', 'FTI', 'class']\n"
          ],
          "name": "stdout"
        },
        {
          "output_type": "execute_result",
          "data": {
            "text/html": [
              "<div>\n",
              "<style scoped>\n",
              "    .dataframe tbody tr th:only-of-type {\n",
              "        vertical-align: middle;\n",
              "    }\n",
              "\n",
              "    .dataframe tbody tr th {\n",
              "        vertical-align: top;\n",
              "    }\n",
              "\n",
              "    .dataframe thead th {\n",
              "        text-align: right;\n",
              "    }\n",
              "</style>\n",
              "<table border=\"1\" class=\"dataframe\">\n",
              "  <thead>\n",
              "    <tr style=\"text-align: right;\">\n",
              "      <th></th>\n",
              "      <th>Sex</th>\n",
              "      <th>On thyroxine</th>\n",
              "      <th>query on thyroxine</th>\n",
              "      <th>on antithyroid medication</th>\n",
              "      <th>sick</th>\n",
              "      <th>pregnant</th>\n",
              "      <th>thyroid surgery</th>\n",
              "      <th>I131 treatment</th>\n",
              "      <th>query hypothyroid</th>\n",
              "      <th>query hyperthyroid</th>\n",
              "      <th>lithium</th>\n",
              "      <th>goitre</th>\n",
              "      <th>tumor</th>\n",
              "      <th>psych</th>\n",
              "      <th>TSH measured</th>\n",
              "      <th>T3 measured</th>\n",
              "      <th>TT4 measured</th>\n",
              "      <th>T4U measured</th>\n",
              "      <th>FTI measured</th>\n",
              "      <th>referral source</th>\n",
              "    </tr>\n",
              "  </thead>\n",
              "  <tbody>\n",
              "    <tr>\n",
              "      <th>count</th>\n",
              "      <td>2690</td>\n",
              "      <td>2800</td>\n",
              "      <td>2800</td>\n",
              "      <td>2800</td>\n",
              "      <td>2800</td>\n",
              "      <td>2800</td>\n",
              "      <td>2800</td>\n",
              "      <td>2800</td>\n",
              "      <td>2800</td>\n",
              "      <td>2800</td>\n",
              "      <td>2800</td>\n",
              "      <td>2800</td>\n",
              "      <td>2800</td>\n",
              "      <td>2800</td>\n",
              "      <td>2800</td>\n",
              "      <td>2800</td>\n",
              "      <td>2800</td>\n",
              "      <td>2800</td>\n",
              "      <td>2800</td>\n",
              "      <td>2800</td>\n",
              "    </tr>\n",
              "    <tr>\n",
              "      <th>unique</th>\n",
              "      <td>2</td>\n",
              "      <td>2</td>\n",
              "      <td>2</td>\n",
              "      <td>2</td>\n",
              "      <td>2</td>\n",
              "      <td>2</td>\n",
              "      <td>2</td>\n",
              "      <td>2</td>\n",
              "      <td>2</td>\n",
              "      <td>2</td>\n",
              "      <td>2</td>\n",
              "      <td>2</td>\n",
              "      <td>2</td>\n",
              "      <td>2</td>\n",
              "      <td>2</td>\n",
              "      <td>2</td>\n",
              "      <td>2</td>\n",
              "      <td>2</td>\n",
              "      <td>2</td>\n",
              "      <td>5</td>\n",
              "    </tr>\n",
              "    <tr>\n",
              "      <th>top</th>\n",
              "      <td>F</td>\n",
              "      <td>f</td>\n",
              "      <td>f</td>\n",
              "      <td>f</td>\n",
              "      <td>f</td>\n",
              "      <td>f</td>\n",
              "      <td>f</td>\n",
              "      <td>f</td>\n",
              "      <td>f</td>\n",
              "      <td>f</td>\n",
              "      <td>f</td>\n",
              "      <td>f</td>\n",
              "      <td>f</td>\n",
              "      <td>f</td>\n",
              "      <td>t</td>\n",
              "      <td>t</td>\n",
              "      <td>t</td>\n",
              "      <td>t</td>\n",
              "      <td>t</td>\n",
              "      <td>other</td>\n",
              "    </tr>\n",
              "    <tr>\n",
              "      <th>freq</th>\n",
              "      <td>1830</td>\n",
              "      <td>2470</td>\n",
              "      <td>2760</td>\n",
              "      <td>2766</td>\n",
              "      <td>2690</td>\n",
              "      <td>2759</td>\n",
              "      <td>2761</td>\n",
              "      <td>2752</td>\n",
              "      <td>2637</td>\n",
              "      <td>2627</td>\n",
              "      <td>2786</td>\n",
              "      <td>2775</td>\n",
              "      <td>2729</td>\n",
              "      <td>2665</td>\n",
              "      <td>2516</td>\n",
              "      <td>2215</td>\n",
              "      <td>2616</td>\n",
              "      <td>2503</td>\n",
              "      <td>2505</td>\n",
              "      <td>1632</td>\n",
              "    </tr>\n",
              "  </tbody>\n",
              "</table>\n",
              "</div>"
            ],
            "text/plain": [
              "         Sex On thyroxine  ... FTI measured referral source\n",
              "count   2690         2800  ...         2800            2800\n",
              "unique     2            2  ...            2               5\n",
              "top        F            f  ...            t           other\n",
              "freq    1830         2470  ...         2505            1632\n",
              "\n",
              "[4 rows x 20 columns]"
            ]
          },
          "metadata": {
            "tags": []
          },
          "execution_count": 11
        }
      ]
    },
    {
      "cell_type": "markdown",
      "metadata": {
        "id": "Jo9aRzltCOK8"
      },
      "source": [
        "Great! Let's see if there's any other records we have to address. count() is a nice way to check if we have any other missing values."
      ]
    },
    {
      "cell_type": "code",
      "metadata": {
        "id": "Q1yGe8nrzozW",
        "colab": {
          "base_uri": "https://localhost:8080/",
          "height": 503
        },
        "outputId": "27e228f6-24c6-4a00-af8c-d1e1bbc1ced1"
      },
      "source": [
        "dataset.count()"
      ],
      "execution_count": null,
      "outputs": [
        {
          "output_type": "execute_result",
          "data": {
            "text/plain": [
              "Age                          2800\n",
              "Sex                          2690\n",
              "On thyroxine                 2800\n",
              "query on thyroxine           2800\n",
              "on antithyroid medication    2800\n",
              "sick                         2800\n",
              "pregnant                     2800\n",
              "thyroid surgery              2800\n",
              "I131 treatment               2800\n",
              "query hypothyroid            2800\n",
              "query hyperthyroid           2800\n",
              "lithium                      2800\n",
              "goitre                       2800\n",
              "tumor                        2800\n",
              "psych                        2800\n",
              "TSH measured                 2800\n",
              "TSH                          2800\n",
              "T3 measured                  2800\n",
              "T3                           2800\n",
              "TT4 measured                 2800\n",
              "TT4                          2800\n",
              "T4U measured                 2800\n",
              "T4u                          2800\n",
              "FTI measured                 2800\n",
              "FTI                          2800\n",
              "referral source              2800\n",
              "class                        2800\n",
              "dtype: int64"
            ]
          },
          "metadata": {
            "tags": []
          },
          "execution_count": 12
        }
      ]
    },
    {
      "cell_type": "markdown",
      "metadata": {
        "id": "-Y9DDq8qCeL8"
      },
      "source": [
        "There seems to be quite a few rows with missing data. There are techniques you can use to try to handle this situation (and some models in sklearn can handle NaN values without problem). But let's just remove those rows for now. When working on groups, you're more than welcome to choose your own method of dealing with the missing data."
      ]
    },
    {
      "cell_type": "code",
      "metadata": {
        "id": "1E6qS7F5zyt3",
        "colab": {
          "base_uri": "https://localhost:8080/",
          "height": 503
        },
        "outputId": "c0bb0439-db3e-4dfe-9ce9-4c71d0aafd9b"
      },
      "source": [
        "#Your code here\n",
        "#Deleting all rows with NaN\n",
        "dataset.dropna(inplace=True)\n",
        "dataset.count()"
      ],
      "execution_count": null,
      "outputs": [
        {
          "output_type": "execute_result",
          "data": {
            "text/plain": [
              "Age                          2690\n",
              "Sex                          2690\n",
              "On thyroxine                 2690\n",
              "query on thyroxine           2690\n",
              "on antithyroid medication    2690\n",
              "sick                         2690\n",
              "pregnant                     2690\n",
              "thyroid surgery              2690\n",
              "I131 treatment               2690\n",
              "query hypothyroid            2690\n",
              "query hyperthyroid           2690\n",
              "lithium                      2690\n",
              "goitre                       2690\n",
              "tumor                        2690\n",
              "psych                        2690\n",
              "TSH measured                 2690\n",
              "TSH                          2690\n",
              "T3 measured                  2690\n",
              "T3                           2690\n",
              "TT4 measured                 2690\n",
              "TT4                          2690\n",
              "T4U measured                 2690\n",
              "T4u                          2690\n",
              "FTI measured                 2690\n",
              "FTI                          2690\n",
              "referral source              2690\n",
              "class                        2690\n",
              "dtype: int64"
            ]
          },
          "metadata": {
            "tags": []
          },
          "execution_count": 13
        }
      ]
    },
    {
      "cell_type": "markdown",
      "metadata": {
        "id": "eTcS25EHF4vL"
      },
      "source": [
        "Ooof! We just cut out about 30% of our data set! You probably won't want to throw out this data for your project, but let's keep going now that we have a clean dataset and do some further data analysis and visualization to better understand what we're working with."
      ]
    },
    {
      "cell_type": "markdown",
      "metadata": {
        "id": "SsiaTCjQql3S"
      },
      "source": [
        "## Data analysis and visualization\n",
        "\n",
        "As the name suggests, [pandas.corr()](https://pandas.pydata.org/pandas-docs/stable/generated/pandas.DataFrame.corr.html) will compute pairwise correlation of (numerical) columns, excluding NA/null values. Notice that in this case, since we've converted 'class' to a number (0 or 1) we can see how correlated different features are with the class label!"
      ]
    },
    {
      "cell_type": "markdown",
      "metadata": {
        "id": "huFOG2Mw3OqJ"
      },
      "source": [
        "Check the correlation"
      ]
    },
    {
      "cell_type": "code",
      "metadata": {
        "id": "fXrXSMW_GSeT",
        "colab": {
          "base_uri": "https://localhost:8080/",
          "height": 35
        },
        "outputId": "992cf973-e635-4a03-e4aa-b4c0f9a06794"
      },
      "source": [
        "\"\"\"## YOUR CODE HERE\n",
        "for i in dataset:\n",
        "  dataset[i] = dataset[i].astype(float)\n",
        "\n",
        "dataset.corr()\"\"\""
      ],
      "execution_count": null,
      "outputs": [
        {
          "output_type": "execute_result",
          "data": {
            "application/vnd.google.colaboratory.intrinsic": {
              "type": "string"
            },
            "text/plain": [
              "'## YOUR CODE HERE\\nfor i in dataset:\\n  dataset[i] = dataset[i].astype(float)\\n\\ndataset.corr()'"
            ]
          },
          "metadata": {
            "tags": []
          },
          "execution_count": 14
        }
      ]
    },
    {
      "cell_type": "markdown",
      "metadata": {
        "id": "scfm6AEv3YIJ"
      },
      "source": [
        "Convert the class feature to numeric so we can also see the correlations it has with the numeric features, and check the correlation again."
      ]
    },
    {
      "cell_type": "code",
      "metadata": {
        "id": "2bGleemH3o3b"
      },
      "source": [
        "## YOUR CODE HERE\n",
        "#already done"
      ],
      "execution_count": null,
      "outputs": []
    },
    {
      "cell_type": "markdown",
      "metadata": {
        "id": "tp4yO5kUGd3L"
      },
      "source": [
        "Let's do some further visual analysis using a new module called seaborn. Explore its incredible versatility and diversity with data visualization here: https://seaborn.pydata.org/"
      ]
    },
    {
      "cell_type": "code",
      "metadata": {
        "id": "JzkaBa64aXzb",
        "colab": {
          "base_uri": "https://localhost:8080/",
          "height": 1000
        },
        "outputId": "6476ae87-535b-4174-e88c-539c1f600fc7"
      },
      "source": [
        "import seaborn as sns\n",
        "sns.set(rc={'figure.figsize':(27, 27)}) # bigger figures\n",
        "sns.heatmap(dataset.corr(), annot = True) # creating a heatmap of all variables in the data set\n"
      ],
      "execution_count": null,
      "outputs": [
        {
          "output_type": "stream",
          "text": [
            "/usr/local/lib/python3.6/dist-packages/statsmodels/tools/_testing.py:19: FutureWarning: pandas.util.testing is deprecated. Use the functions in the public API at pandas.testing instead.\n",
            "  import pandas.util.testing as tm\n"
          ],
          "name": "stderr"
        },
        {
          "output_type": "execute_result",
          "data": {
            "text/plain": [
              "<matplotlib.axes._subplots.AxesSubplot at 0x7f8044b231d0>"
            ]
          },
          "metadata": {
            "tags": []
          },
          "execution_count": 16
        },
        {
          "output_type": "display_data",
          "data": {
            "image/png": "[encoded data removed]",
            "text/plain": [
              "<Figure size 1944x1944 with 2 Axes>"
            ]
          },
          "metadata": {
            "tags": []
          }
        }
      ]
    },
    {
      "cell_type": "code",
      "metadata": {
        "id": "nb2t6dk260AH",
        "colab": {
          "base_uri": "https://localhost:8080/",
          "height": 398
        },
        "outputId": "396044e1-f2f5-4b0d-a1b8-5b0b8935c6ac"
      },
      "source": [
        "def more_Normal(dataframe, column): \n",
        "  ## YOUR CODE HERE\n",
        "  col = dataframe[column]\n",
        "  median = col.median()\n",
        "  first = np.percentile(col, 25)\n",
        "  third = np.percentile(col, 75)\n",
        "  small_outlier = first - 1.5 * (third-first)\n",
        "  big_outlier = third + 1.5 * (third-first)\n",
        "  count = 0\n",
        "  indices = col.index.tolist()\n",
        "  for i in col:\n",
        "    if(i > big_outlier | i < small_outlier):\n",
        "      col[indices[count]] = median\n",
        "    count+=1\n",
        "\n",
        "for i in numeric_columns:\n",
        "  if (i != 'class'):\n",
        "    more_Normal(dataset, i)\n",
        "sns.pairplot(dataset)"
      ],
      "execution_count": null,
      "outputs": [
        {
          "output_type": "error",
          "ename": "TypeError",
          "evalue": "ignored",
          "traceback": [
            "\u001b[0;31m---------------------------------------------------------------------------\u001b[0m",
            "\u001b[0;31mTypeError\u001b[0m                                 Traceback (most recent call last)",
            "\u001b[0;32m<ipython-input-17-5ca9760a355b>\u001b[0m in \u001b[0;36m<module>\u001b[0;34m()\u001b[0m\n\u001b[1;32m     16\u001b[0m \u001b[0;32mfor\u001b[0m \u001b[0mi\u001b[0m \u001b[0;32min\u001b[0m \u001b[0mnumeric_columns\u001b[0m\u001b[0;34m:\u001b[0m\u001b[0;34m\u001b[0m\u001b[0;34m\u001b[0m\u001b[0m\n\u001b[1;32m     17\u001b[0m   \u001b[0;32mif\u001b[0m \u001b[0;34m(\u001b[0m\u001b[0mi\u001b[0m \u001b[0;34m!=\u001b[0m \u001b[0;34m'class'\u001b[0m\u001b[0;34m)\u001b[0m\u001b[0;34m:\u001b[0m\u001b[0;34m\u001b[0m\u001b[0;34m\u001b[0m\u001b[0m\n\u001b[0;32m---> 18\u001b[0;31m     \u001b[0mmore_Normal\u001b[0m\u001b[0;34m(\u001b[0m\u001b[0mdataset\u001b[0m\u001b[0;34m,\u001b[0m \u001b[0mi\u001b[0m\u001b[0;34m)\u001b[0m\u001b[0;34m\u001b[0m\u001b[0;34m\u001b[0m\u001b[0m\n\u001b[0m\u001b[1;32m     19\u001b[0m \u001b[0msns\u001b[0m\u001b[0;34m.\u001b[0m\u001b[0mpairplot\u001b[0m\u001b[0;34m(\u001b[0m\u001b[0mdataset\u001b[0m\u001b[0;34m)\u001b[0m\u001b[0;34m\u001b[0m\u001b[0;34m\u001b[0m\u001b[0m\n",
            "\u001b[0;32m<ipython-input-17-5ca9760a355b>\u001b[0m in \u001b[0;36mmore_Normal\u001b[0;34m(dataframe, column)\u001b[0m\n\u001b[1;32m      3\u001b[0m   \u001b[0mcol\u001b[0m \u001b[0;34m=\u001b[0m \u001b[0mdataframe\u001b[0m\u001b[0;34m[\u001b[0m\u001b[0mcolumn\u001b[0m\u001b[0;34m]\u001b[0m\u001b[0;34m\u001b[0m\u001b[0;34m\u001b[0m\u001b[0m\n\u001b[1;32m      4\u001b[0m   \u001b[0mmedian\u001b[0m \u001b[0;34m=\u001b[0m \u001b[0mcol\u001b[0m\u001b[0;34m.\u001b[0m\u001b[0mmedian\u001b[0m\u001b[0;34m(\u001b[0m\u001b[0;34m)\u001b[0m\u001b[0;34m\u001b[0m\u001b[0;34m\u001b[0m\u001b[0m\n\u001b[0;32m----> 5\u001b[0;31m   \u001b[0mfirst\u001b[0m \u001b[0;34m=\u001b[0m \u001b[0mnp\u001b[0m\u001b[0;34m.\u001b[0m\u001b[0mpercentile\u001b[0m\u001b[0;34m(\u001b[0m\u001b[0mcol\u001b[0m\u001b[0;34m,\u001b[0m \u001b[0;36m25\u001b[0m\u001b[0;34m)\u001b[0m\u001b[0;34m\u001b[0m\u001b[0;34m\u001b[0m\u001b[0m\n\u001b[0m\u001b[1;32m      6\u001b[0m   \u001b[0mthird\u001b[0m \u001b[0;34m=\u001b[0m \u001b[0mnp\u001b[0m\u001b[0;34m.\u001b[0m\u001b[0mpercentile\u001b[0m\u001b[0;34m(\u001b[0m\u001b[0mcol\u001b[0m\u001b[0;34m,\u001b[0m \u001b[0;36m75\u001b[0m\u001b[0;34m)\u001b[0m\u001b[0;34m\u001b[0m\u001b[0;34m\u001b[0m\u001b[0m\n\u001b[1;32m      7\u001b[0m   \u001b[0msmall_outlier\u001b[0m \u001b[0;34m=\u001b[0m \u001b[0mfirst\u001b[0m \u001b[0;34m-\u001b[0m \u001b[0;36m1.5\u001b[0m \u001b[0;34m*\u001b[0m \u001b[0;34m(\u001b[0m\u001b[0mthird\u001b[0m\u001b[0;34m-\u001b[0m\u001b[0mfirst\u001b[0m\u001b[0;34m)\u001b[0m\u001b[0;34m\u001b[0m\u001b[0;34m\u001b[0m\u001b[0m\n",
            "\u001b[0;32m<__array_function__ internals>\u001b[0m in \u001b[0;36mpercentile\u001b[0;34m(*args, **kwargs)\u001b[0m\n",
            "\u001b[0;32m/usr/local/lib/python3.6/dist-packages/numpy/lib/function_base.py\u001b[0m in \u001b[0;36mpercentile\u001b[0;34m(a, q, axis, out, overwrite_input, interpolation, keepdims)\u001b[0m\n\u001b[1;32m   3704\u001b[0m         \u001b[0;32mraise\u001b[0m \u001b[0mValueError\u001b[0m\u001b[0;34m(\u001b[0m\u001b[0;34m\"Percentiles must be in the range [0, 100]\"\u001b[0m\u001b[0;34m)\u001b[0m\u001b[0;34m\u001b[0m\u001b[0;34m\u001b[0m\u001b[0m\n\u001b[1;32m   3705\u001b[0m     return _quantile_unchecked(\n\u001b[0;32m-> 3706\u001b[0;31m         a, q, axis, out, overwrite_input, interpolation, keepdims)\n\u001b[0m\u001b[1;32m   3707\u001b[0m \u001b[0;34m\u001b[0m\u001b[0m\n\u001b[1;32m   3708\u001b[0m \u001b[0;34m\u001b[0m\u001b[0m\n",
            "\u001b[0;32m/usr/local/lib/python3.6/dist-packages/numpy/lib/function_base.py\u001b[0m in \u001b[0;36m_quantile_unchecked\u001b[0;34m(a, q, axis, out, overwrite_input, interpolation, keepdims)\u001b[0m\n\u001b[1;32m   3824\u001b[0m     r, k = _ureduce(a, func=_quantile_ureduce_func, q=q, axis=axis, out=out,\n\u001b[1;32m   3825\u001b[0m                     \u001b[0moverwrite_input\u001b[0m\u001b[0;34m=\u001b[0m\u001b[0moverwrite_input\u001b[0m\u001b[0;34m,\u001b[0m\u001b[0;34m\u001b[0m\u001b[0;34m\u001b[0m\u001b[0m\n\u001b[0;32m-> 3826\u001b[0;31m                     interpolation=interpolation)\n\u001b[0m\u001b[1;32m   3827\u001b[0m     \u001b[0;32mif\u001b[0m \u001b[0mkeepdims\u001b[0m\u001b[0;34m:\u001b[0m\u001b[0;34m\u001b[0m\u001b[0;34m\u001b[0m\u001b[0m\n\u001b[1;32m   3828\u001b[0m         \u001b[0;32mreturn\u001b[0m \u001b[0mr\u001b[0m\u001b[0;34m.\u001b[0m\u001b[0mreshape\u001b[0m\u001b[0;34m(\u001b[0m\u001b[0mq\u001b[0m\u001b[0;34m.\u001b[0m\u001b[0mshape\u001b[0m \u001b[0;34m+\u001b[0m \u001b[0mk\u001b[0m\u001b[0;34m)\u001b[0m\u001b[0;34m\u001b[0m\u001b[0;34m\u001b[0m\u001b[0m\n",
            "\u001b[0;32m/usr/local/lib/python3.6/dist-packages/numpy/lib/function_base.py\u001b[0m in \u001b[0;36m_ureduce\u001b[0;34m(a, func, **kwargs)\u001b[0m\n\u001b[1;32m   3401\u001b[0m         \u001b[0mkeepdim\u001b[0m \u001b[0;34m=\u001b[0m \u001b[0;34m(\u001b[0m\u001b[0;36m1\u001b[0m\u001b[0;34m,\u001b[0m\u001b[0;34m)\u001b[0m \u001b[0;34m*\u001b[0m \u001b[0ma\u001b[0m\u001b[0;34m.\u001b[0m\u001b[0mndim\u001b[0m\u001b[0;34m\u001b[0m\u001b[0;34m\u001b[0m\u001b[0m\n\u001b[1;32m   3402\u001b[0m \u001b[0;34m\u001b[0m\u001b[0m\n\u001b[0;32m-> 3403\u001b[0;31m     \u001b[0mr\u001b[0m \u001b[0;34m=\u001b[0m \u001b[0mfunc\u001b[0m\u001b[0;34m(\u001b[0m\u001b[0ma\u001b[0m\u001b[0;34m,\u001b[0m \u001b[0;34m**\u001b[0m\u001b[0mkwargs\u001b[0m\u001b[0;34m)\u001b[0m\u001b[0;34m\u001b[0m\u001b[0;34m\u001b[0m\u001b[0m\n\u001b[0m\u001b[1;32m   3404\u001b[0m     \u001b[0;32mreturn\u001b[0m \u001b[0mr\u001b[0m\u001b[0;34m,\u001b[0m \u001b[0mkeepdim\u001b[0m\u001b[0;34m\u001b[0m\u001b[0;34m\u001b[0m\u001b[0m\n\u001b[1;32m   3405\u001b[0m \u001b[0;34m\u001b[0m\u001b[0m\n",
            "\u001b[0;32m/usr/local/lib/python3.6/dist-packages/numpy/lib/function_base.py\u001b[0m in \u001b[0;36m_quantile_ureduce_func\u001b[0;34m(a, q, axis, out, overwrite_input, interpolation, keepdims)\u001b[0m\n\u001b[1;32m   3926\u001b[0m         \u001b[0mweights_above\u001b[0m\u001b[0;34m.\u001b[0m\u001b[0mshape\u001b[0m \u001b[0;34m=\u001b[0m \u001b[0mweights_shape\u001b[0m\u001b[0;34m\u001b[0m\u001b[0;34m\u001b[0m\u001b[0m\n\u001b[1;32m   3927\u001b[0m \u001b[0;34m\u001b[0m\u001b[0m\n\u001b[0;32m-> 3928\u001b[0;31m         \u001b[0map\u001b[0m\u001b[0;34m.\u001b[0m\u001b[0mpartition\u001b[0m\u001b[0;34m(\u001b[0m\u001b[0mconcatenate\u001b[0m\u001b[0;34m(\u001b[0m\u001b[0;34m(\u001b[0m\u001b[0mindices_below\u001b[0m\u001b[0;34m,\u001b[0m \u001b[0mindices_above\u001b[0m\u001b[0;34m)\u001b[0m\u001b[0;34m)\u001b[0m\u001b[0;34m,\u001b[0m \u001b[0maxis\u001b[0m\u001b[0;34m=\u001b[0m\u001b[0maxis\u001b[0m\u001b[0;34m)\u001b[0m\u001b[0;34m\u001b[0m\u001b[0;34m\u001b[0m\u001b[0m\n\u001b[0m\u001b[1;32m   3929\u001b[0m \u001b[0;34m\u001b[0m\u001b[0m\n\u001b[1;32m   3930\u001b[0m         \u001b[0;31m# ensure axis with q-th is first\u001b[0m\u001b[0;34m\u001b[0m\u001b[0;34m\u001b[0m\u001b[0;34m\u001b[0m\u001b[0m\n",
            "\u001b[0;31mTypeError\u001b[0m: '<' not supported between instances of 'float' and 'str'"
          ]
        }
      ]
    },
    {
      "cell_type": "markdown",
      "metadata": {
        "id": "mvW7_0aWFSEm"
      },
      "source": [
        "OK! I think we're ready to create and select some supervised learning models. To get the ball rolling, select Age and Sex as our explanatory features (and class as the target feature, obviously)."
      ]
    },
    {
      "cell_type": "code",
      "metadata": {
        "id": "EQjvfUs1snmC",
        "colab": {
          "base_uri": "https://localhost:8080/",
          "height": 294
        },
        "outputId": "b310ef2b-da68-48e3-8759-39a598bd1b5a"
      },
      "source": [
        "X_cols = ['Age', 'Sex']\n",
        "y_col = 'class'\n",
        "dataset.describe()"
      ],
      "execution_count": null,
      "outputs": [
        {
          "output_type": "execute_result",
          "data": {
            "text/html": [
              "<div>\n",
              "<style scoped>\n",
              "    .dataframe tbody tr th:only-of-type {\n",
              "        vertical-align: middle;\n",
              "    }\n",
              "\n",
              "    .dataframe tbody tr th {\n",
              "        vertical-align: top;\n",
              "    }\n",
              "\n",
              "    .dataframe thead th {\n",
              "        text-align: right;\n",
              "    }\n",
              "</style>\n",
              "<table border=\"1\" class=\"dataframe\">\n",
              "  <thead>\n",
              "    <tr style=\"text-align: right;\">\n",
              "      <th></th>\n",
              "      <th>class</th>\n",
              "    </tr>\n",
              "  </thead>\n",
              "  <tbody>\n",
              "    <tr>\n",
              "      <th>count</th>\n",
              "      <td>2690.000000</td>\n",
              "    </tr>\n",
              "    <tr>\n",
              "      <th>mean</th>\n",
              "      <td>0.078439</td>\n",
              "    </tr>\n",
              "    <tr>\n",
              "      <th>std</th>\n",
              "      <td>0.268911</td>\n",
              "    </tr>\n",
              "    <tr>\n",
              "      <th>min</th>\n",
              "      <td>0.000000</td>\n",
              "    </tr>\n",
              "    <tr>\n",
              "      <th>25%</th>\n",
              "      <td>0.000000</td>\n",
              "    </tr>\n",
              "    <tr>\n",
              "      <th>50%</th>\n",
              "      <td>0.000000</td>\n",
              "    </tr>\n",
              "    <tr>\n",
              "      <th>75%</th>\n",
              "      <td>0.000000</td>\n",
              "    </tr>\n",
              "    <tr>\n",
              "      <th>max</th>\n",
              "      <td>1.000000</td>\n",
              "    </tr>\n",
              "  </tbody>\n",
              "</table>\n",
              "</div>"
            ],
            "text/plain": [
              "             class\n",
              "count  2690.000000\n",
              "mean      0.078439\n",
              "std       0.268911\n",
              "min       0.000000\n",
              "25%       0.000000\n",
              "50%       0.000000\n",
              "75%       0.000000\n",
              "max       1.000000"
            ]
          },
          "metadata": {
            "tags": []
          },
          "execution_count": 18
        }
      ]
    },
    {
      "cell_type": "markdown",
      "metadata": {
        "id": "6HjU-FomsnmD"
      },
      "source": [
        "Now let's take a look at our categorical columns!"
      ]
    },
    {
      "cell_type": "code",
      "metadata": {
        "id": "DXNHz2dQsnmE"
      },
      "source": [
        "## YOUR CODE HERE"
      ],
      "execution_count": null,
      "outputs": []
    },
    {
      "cell_type": "markdown",
      "metadata": {
        "id": "W1_zUaEKsnmG"
      },
      "source": [
        "Uh oh... we have several features that are non-informative (they only have a single value).  We probably didn't notice this before because there were still '?' values in there, or perhaps when we threw out that 30% of our data we got rid of some variation in these features.  Let's just drop those columns."
      ]
    },
    {
      "cell_type": "code",
      "metadata": {
        "id": "1NqvPYi6itkH"
      },
      "source": [
        "### Your code here"
      ],
      "execution_count": null,
      "outputs": []
    },
    {
      "cell_type": "markdown",
      "metadata": {
        "id": "D541J3QxsnmI"
      },
      "source": [
        "We can convert categorical columns (i.e., True/False or Male/Female) into indicator values (0,1) using a pretty nifty feature: [pandas.get_dummies()](https://pandas.pydata.org/pandas-docs/version/0.22/generated/pandas.get_dummies.html).  We can convert categorical columns (i.e., True/False or Male/Female) into indicator values (0,1) using a pretty nifty feature: [pandas.get_dummies()](https://pandas.pydata.org/pandas-docs/version/0.22/generated/pandas.get_dummies.html).  "
      ]
    },
    {
      "cell_type": "code",
      "metadata": {
        "id": "HkK1swFGsnmI",
        "colab": {
          "base_uri": "https://localhost:8080/",
          "height": 942
        },
        "outputId": "33b031f9-68f9-42ba-9c2f-f8f21b8e490f"
      },
      "source": [
        "dataset.replace(\"f\",0, inplace=True)\n",
        "dataset.replace(\"t\",1, inplace=True)\n",
        "dataset.replace(\"F\",0, inplace=True)\n",
        "dataset.replace(\"M\",1, inplace=True)\n",
        "dataset.corr()\n"
      ],
      "execution_count": null,
      "outputs": [
        {
          "output_type": "execute_result",
          "data": {
            "text/html": [
              "<div>\n",
              "<style scoped>\n",
              "    .dataframe tbody tr th:only-of-type {\n",
              "        vertical-align: middle;\n",
              "    }\n",
              "\n",
              "    .dataframe tbody tr th {\n",
              "        vertical-align: top;\n",
              "    }\n",
              "\n",
              "    .dataframe thead th {\n",
              "        text-align: right;\n",
              "    }\n",
              "</style>\n",
              "<table border=\"1\" class=\"dataframe\">\n",
              "  <thead>\n",
              "    <tr style=\"text-align: right;\">\n",
              "      <th></th>\n",
              "      <th>Sex</th>\n",
              "      <th>On thyroxine</th>\n",
              "      <th>query on thyroxine</th>\n",
              "      <th>on antithyroid medication</th>\n",
              "      <th>sick</th>\n",
              "      <th>pregnant</th>\n",
              "      <th>thyroid surgery</th>\n",
              "      <th>I131 treatment</th>\n",
              "      <th>query hypothyroid</th>\n",
              "      <th>query hyperthyroid</th>\n",
              "      <th>lithium</th>\n",
              "      <th>goitre</th>\n",
              "      <th>tumor</th>\n",
              "      <th>psych</th>\n",
              "      <th>TSH measured</th>\n",
              "      <th>T3 measured</th>\n",
              "      <th>TT4 measured</th>\n",
              "      <th>T4U measured</th>\n",
              "      <th>FTI measured</th>\n",
              "      <th>class</th>\n",
              "    </tr>\n",
              "  </thead>\n",
              "  <tbody>\n",
              "    <tr>\n",
              "      <th>Sex</th>\n",
              "      <td>1.000000</td>\n",
              "      <td>-0.088265</td>\n",
              "      <td>0.040912</td>\n",
              "      <td>-0.034749</td>\n",
              "      <td>0.001917</td>\n",
              "      <td>-0.084223</td>\n",
              "      <td>-0.043136</td>\n",
              "      <td>-0.027264</td>\n",
              "      <td>-0.034216</td>\n",
              "      <td>-0.071517</td>\n",
              "      <td>-0.027428</td>\n",
              "      <td>0.024984</td>\n",
              "      <td>-0.071997</td>\n",
              "      <td>0.114167</td>\n",
              "      <td>0.038770</td>\n",
              "      <td>0.096030</td>\n",
              "      <td>0.074904</td>\n",
              "      <td>0.045724</td>\n",
              "      <td>0.046813</td>\n",
              "      <td>-0.042863</td>\n",
              "    </tr>\n",
              "    <tr>\n",
              "      <th>On thyroxine</th>\n",
              "      <td>-0.088265</td>\n",
              "      <td>1.000000</td>\n",
              "      <td>0.002005</td>\n",
              "      <td>-0.000716</td>\n",
              "      <td>-0.052083</td>\n",
              "      <td>0.011467</td>\n",
              "      <td>0.041500</td>\n",
              "      <td>0.076911</td>\n",
              "      <td>0.071890</td>\n",
              "      <td>-0.019451</td>\n",
              "      <td>0.005159</td>\n",
              "      <td>-0.011846</td>\n",
              "      <td>-0.031501</td>\n",
              "      <td>-0.079169</td>\n",
              "      <td>0.039720</td>\n",
              "      <td>-0.159090</td>\n",
              "      <td>0.012118</td>\n",
              "      <td>0.020688</td>\n",
              "      <td>0.019853</td>\n",
              "      <td>-0.086285</td>\n",
              "    </tr>\n",
              "    <tr>\n",
              "      <th>query on thyroxine</th>\n",
              "      <td>0.040912</td>\n",
              "      <td>0.002005</td>\n",
              "      <td>1.000000</td>\n",
              "      <td>-0.013901</td>\n",
              "      <td>0.021812</td>\n",
              "      <td>0.035660</td>\n",
              "      <td>0.010794</td>\n",
              "      <td>-0.016025</td>\n",
              "      <td>-0.030896</td>\n",
              "      <td>-0.006323</td>\n",
              "      <td>-0.008886</td>\n",
              "      <td>0.052120</td>\n",
              "      <td>-0.000789</td>\n",
              "      <td>-0.028131</td>\n",
              "      <td>-0.122152</td>\n",
              "      <td>-0.034004</td>\n",
              "      <td>0.032110</td>\n",
              "      <td>0.031819</td>\n",
              "      <td>0.031620</td>\n",
              "      <td>-0.001571</td>\n",
              "    </tr>\n",
              "    <tr>\n",
              "      <th>on antithyroid medication</th>\n",
              "      <td>-0.034749</td>\n",
              "      <td>-0.000716</td>\n",
              "      <td>-0.013901</td>\n",
              "      <td>1.000000</td>\n",
              "      <td>-0.023140</td>\n",
              "      <td>0.068583</td>\n",
              "      <td>-0.013723</td>\n",
              "      <td>0.011189</td>\n",
              "      <td>-0.014383</td>\n",
              "      <td>0.122072</td>\n",
              "      <td>-0.008184</td>\n",
              "      <td>-0.010958</td>\n",
              "      <td>-0.018494</td>\n",
              "      <td>-0.025906</td>\n",
              "      <td>-0.006354</td>\n",
              "      <td>0.009808</td>\n",
              "      <td>-0.038440</td>\n",
              "      <td>-0.037715</td>\n",
              "      <td>-0.038111</td>\n",
              "      <td>-0.020632</td>\n",
              "    </tr>\n",
              "    <tr>\n",
              "      <th>sick</th>\n",
              "      <td>0.001917</td>\n",
              "      <td>-0.052083</td>\n",
              "      <td>0.021812</td>\n",
              "      <td>-0.023140</td>\n",
              "      <td>1.000000</td>\n",
              "      <td>-0.025127</td>\n",
              "      <td>-0.024806</td>\n",
              "      <td>-0.026676</td>\n",
              "      <td>0.036639</td>\n",
              "      <td>-0.029308</td>\n",
              "      <td>-0.014793</td>\n",
              "      <td>-0.019809</td>\n",
              "      <td>-0.009640</td>\n",
              "      <td>-0.029420</td>\n",
              "      <td>0.030705</td>\n",
              "      <td>0.031904</td>\n",
              "      <td>0.007010</td>\n",
              "      <td>0.020102</td>\n",
              "      <td>0.019666</td>\n",
              "      <td>0.017810</td>\n",
              "    </tr>\n",
              "    <tr>\n",
              "      <th>pregnant</th>\n",
              "      <td>-0.084223</td>\n",
              "      <td>0.011467</td>\n",
              "      <td>0.035660</td>\n",
              "      <td>0.068583</td>\n",
              "      <td>-0.025127</td>\n",
              "      <td>1.000000</td>\n",
              "      <td>-0.014902</td>\n",
              "      <td>-0.016025</td>\n",
              "      <td>-0.017910</td>\n",
              "      <td>0.133303</td>\n",
              "      <td>-0.008886</td>\n",
              "      <td>-0.011899</td>\n",
              "      <td>0.114969</td>\n",
              "      <td>-0.014013</td>\n",
              "      <td>0.010508</td>\n",
              "      <td>0.026125</td>\n",
              "      <td>0.032110</td>\n",
              "      <td>0.041877</td>\n",
              "      <td>0.041710</td>\n",
              "      <td>-0.035843</td>\n",
              "    </tr>\n",
              "    <tr>\n",
              "      <th>thyroid surgery</th>\n",
              "      <td>-0.043136</td>\n",
              "      <td>0.041500</td>\n",
              "      <td>0.010794</td>\n",
              "      <td>-0.013723</td>\n",
              "      <td>-0.024806</td>\n",
              "      <td>-0.014902</td>\n",
              "      <td>1.000000</td>\n",
              "      <td>-0.015821</td>\n",
              "      <td>-0.017353</td>\n",
              "      <td>0.020105</td>\n",
              "      <td>-0.008773</td>\n",
              "      <td>-0.011748</td>\n",
              "      <td>-0.000290</td>\n",
              "      <td>-0.027772</td>\n",
              "      <td>0.040597</td>\n",
              "      <td>-0.013212</td>\n",
              "      <td>0.031700</td>\n",
              "      <td>0.000606</td>\n",
              "      <td>0.000311</td>\n",
              "      <td>-0.012251</td>\n",
              "    </tr>\n",
              "    <tr>\n",
              "      <th>I131 treatment</th>\n",
              "      <td>-0.027264</td>\n",
              "      <td>0.076911</td>\n",
              "      <td>-0.016025</td>\n",
              "      <td>0.011189</td>\n",
              "      <td>-0.026676</td>\n",
              "      <td>-0.016025</td>\n",
              "      <td>-0.015821</td>\n",
              "      <td>1.000000</td>\n",
              "      <td>0.040728</td>\n",
              "      <td>0.098100</td>\n",
              "      <td>-0.009434</td>\n",
              "      <td>-0.012633</td>\n",
              "      <td>-0.021320</td>\n",
              "      <td>-0.029865</td>\n",
              "      <td>0.043658</td>\n",
              "      <td>-0.003296</td>\n",
              "      <td>0.034090</td>\n",
              "      <td>0.025476</td>\n",
              "      <td>0.025238</td>\n",
              "      <td>0.015851</td>\n",
              "    </tr>\n",
              "    <tr>\n",
              "      <th>query hypothyroid</th>\n",
              "      <td>-0.034216</td>\n",
              "      <td>0.071890</td>\n",
              "      <td>-0.030896</td>\n",
              "      <td>-0.014383</td>\n",
              "      <td>0.036639</td>\n",
              "      <td>-0.017910</td>\n",
              "      <td>-0.017353</td>\n",
              "      <td>0.040728</td>\n",
              "      <td>1.000000</td>\n",
              "      <td>0.013039</td>\n",
              "      <td>-0.018189</td>\n",
              "      <td>-0.024357</td>\n",
              "      <td>-0.041105</td>\n",
              "      <td>-0.014234</td>\n",
              "      <td>0.052840</td>\n",
              "      <td>-0.077295</td>\n",
              "      <td>0.014330</td>\n",
              "      <td>0.003367</td>\n",
              "      <td>0.002764</td>\n",
              "      <td>0.078626</td>\n",
              "    </tr>\n",
              "    <tr>\n",
              "      <th>query hyperthyroid</th>\n",
              "      <td>-0.071517</td>\n",
              "      <td>-0.019451</td>\n",
              "      <td>-0.006323</td>\n",
              "      <td>0.122072</td>\n",
              "      <td>-0.029308</td>\n",
              "      <td>0.133303</td>\n",
              "      <td>0.020105</td>\n",
              "      <td>0.098100</td>\n",
              "      <td>0.013039</td>\n",
              "      <td>1.000000</td>\n",
              "      <td>0.024034</td>\n",
              "      <td>-0.024998</td>\n",
              "      <td>0.044662</td>\n",
              "      <td>-0.059095</td>\n",
              "      <td>-0.051425</td>\n",
              "      <td>0.028566</td>\n",
              "      <td>-0.058137</td>\n",
              "      <td>-0.027735</td>\n",
              "      <td>-0.028453</td>\n",
              "      <td>-0.023872</td>\n",
              "    </tr>\n",
              "    <tr>\n",
              "      <th>lithium</th>\n",
              "      <td>-0.027428</td>\n",
              "      <td>0.005159</td>\n",
              "      <td>-0.008886</td>\n",
              "      <td>-0.008184</td>\n",
              "      <td>-0.014793</td>\n",
              "      <td>-0.008886</td>\n",
              "      <td>-0.008773</td>\n",
              "      <td>-0.009434</td>\n",
              "      <td>-0.018189</td>\n",
              "      <td>0.024034</td>\n",
              "      <td>1.000000</td>\n",
              "      <td>-0.007006</td>\n",
              "      <td>-0.011823</td>\n",
              "      <td>0.030933</td>\n",
              "      <td>0.024210</td>\n",
              "      <td>-0.000423</td>\n",
              "      <td>0.018904</td>\n",
              "      <td>0.024654</td>\n",
              "      <td>0.024556</td>\n",
              "      <td>-0.001886</td>\n",
              "    </tr>\n",
              "    <tr>\n",
              "      <th>goitre</th>\n",
              "      <td>0.024984</td>\n",
              "      <td>-0.011846</td>\n",
              "      <td>0.052120</td>\n",
              "      <td>-0.010958</td>\n",
              "      <td>-0.019809</td>\n",
              "      <td>-0.011899</td>\n",
              "      <td>-0.011748</td>\n",
              "      <td>-0.012633</td>\n",
              "      <td>-0.024357</td>\n",
              "      <td>-0.024998</td>\n",
              "      <td>-0.007006</td>\n",
              "      <td>1.000000</td>\n",
              "      <td>-0.015831</td>\n",
              "      <td>-0.004369</td>\n",
              "      <td>-0.044811</td>\n",
              "      <td>-0.025622</td>\n",
              "      <td>0.009478</td>\n",
              "      <td>0.020327</td>\n",
              "      <td>0.020155</td>\n",
              "      <td>-0.028257</td>\n",
              "    </tr>\n",
              "    <tr>\n",
              "      <th>tumor</th>\n",
              "      <td>-0.071997</td>\n",
              "      <td>-0.031501</td>\n",
              "      <td>-0.000789</td>\n",
              "      <td>-0.018494</td>\n",
              "      <td>-0.009640</td>\n",
              "      <td>0.114969</td>\n",
              "      <td>-0.000290</td>\n",
              "      <td>-0.021320</td>\n",
              "      <td>-0.041105</td>\n",
              "      <td>0.044662</td>\n",
              "      <td>-0.011823</td>\n",
              "      <td>-0.015831</td>\n",
              "      <td>1.000000</td>\n",
              "      <td>-0.026693</td>\n",
              "      <td>-0.038386</td>\n",
              "      <td>-0.012384</td>\n",
              "      <td>-0.033637</td>\n",
              "      <td>-0.013104</td>\n",
              "      <td>-0.013545</td>\n",
              "      <td>0.004423</td>\n",
              "    </tr>\n",
              "    <tr>\n",
              "      <th>psych</th>\n",
              "      <td>0.114167</td>\n",
              "      <td>-0.079169</td>\n",
              "      <td>-0.028131</td>\n",
              "      <td>-0.025906</td>\n",
              "      <td>-0.029420</td>\n",
              "      <td>-0.014013</td>\n",
              "      <td>-0.027772</td>\n",
              "      <td>-0.029865</td>\n",
              "      <td>-0.014234</td>\n",
              "      <td>-0.059095</td>\n",
              "      <td>0.030933</td>\n",
              "      <td>-0.004369</td>\n",
              "      <td>-0.026693</td>\n",
              "      <td>1.000000</td>\n",
              "      <td>0.076637</td>\n",
              "      <td>0.110362</td>\n",
              "      <td>0.059842</td>\n",
              "      <td>0.061258</td>\n",
              "      <td>0.060894</td>\n",
              "      <td>-0.022312</td>\n",
              "    </tr>\n",
              "    <tr>\n",
              "      <th>TSH measured</th>\n",
              "      <td>0.038770</td>\n",
              "      <td>0.039720</td>\n",
              "      <td>-0.122152</td>\n",
              "      <td>-0.006354</td>\n",
              "      <td>0.030705</td>\n",
              "      <td>0.010508</td>\n",
              "      <td>0.040597</td>\n",
              "      <td>0.043658</td>\n",
              "      <td>0.052840</td>\n",
              "      <td>-0.051425</td>\n",
              "      <td>0.024210</td>\n",
              "      <td>-0.044811</td>\n",
              "      <td>-0.038386</td>\n",
              "      <td>0.076637</td>\n",
              "      <td>1.000000</td>\n",
              "      <td>0.449049</td>\n",
              "      <td>0.684933</td>\n",
              "      <td>0.524940</td>\n",
              "      <td>0.527424</td>\n",
              "      <td>0.097649</td>\n",
              "    </tr>\n",
              "    <tr>\n",
              "      <th>T3 measured</th>\n",
              "      <td>0.096030</td>\n",
              "      <td>-0.159090</td>\n",
              "      <td>-0.034004</td>\n",
              "      <td>0.009808</td>\n",
              "      <td>0.031904</td>\n",
              "      <td>0.026125</td>\n",
              "      <td>-0.013212</td>\n",
              "      <td>-0.003296</td>\n",
              "      <td>-0.077295</td>\n",
              "      <td>0.028566</td>\n",
              "      <td>-0.000423</td>\n",
              "      <td>-0.025622</td>\n",
              "      <td>-0.012384</td>\n",
              "      <td>0.110362</td>\n",
              "      <td>0.449049</td>\n",
              "      <td>1.000000</td>\n",
              "      <td>0.429674</td>\n",
              "      <td>0.282012</td>\n",
              "      <td>0.284174</td>\n",
              "      <td>0.022703</td>\n",
              "    </tr>\n",
              "    <tr>\n",
              "      <th>TT4 measured</th>\n",
              "      <td>0.074904</td>\n",
              "      <td>0.012118</td>\n",
              "      <td>0.032110</td>\n",
              "      <td>-0.038440</td>\n",
              "      <td>0.007010</td>\n",
              "      <td>0.032110</td>\n",
              "      <td>0.031700</td>\n",
              "      <td>0.034090</td>\n",
              "      <td>0.014330</td>\n",
              "      <td>-0.058137</td>\n",
              "      <td>0.018904</td>\n",
              "      <td>0.009478</td>\n",
              "      <td>-0.033637</td>\n",
              "      <td>0.059842</td>\n",
              "      <td>0.684933</td>\n",
              "      <td>0.429674</td>\n",
              "      <td>1.000000</td>\n",
              "      <td>0.761795</td>\n",
              "      <td>0.759860</td>\n",
              "      <td>0.059295</td>\n",
              "    </tr>\n",
              "    <tr>\n",
              "      <th>T4U measured</th>\n",
              "      <td>0.045724</td>\n",
              "      <td>0.020688</td>\n",
              "      <td>0.031819</td>\n",
              "      <td>-0.037715</td>\n",
              "      <td>0.020102</td>\n",
              "      <td>0.041877</td>\n",
              "      <td>0.000606</td>\n",
              "      <td>0.025476</td>\n",
              "      <td>0.003367</td>\n",
              "      <td>-0.027735</td>\n",
              "      <td>0.024654</td>\n",
              "      <td>0.020327</td>\n",
              "      <td>-0.013104</td>\n",
              "      <td>0.061258</td>\n",
              "      <td>0.524940</td>\n",
              "      <td>0.282012</td>\n",
              "      <td>0.761795</td>\n",
              "      <td>1.000000</td>\n",
              "      <td>0.996009</td>\n",
              "      <td>0.017943</td>\n",
              "    </tr>\n",
              "    <tr>\n",
              "      <th>FTI measured</th>\n",
              "      <td>0.046813</td>\n",
              "      <td>0.019853</td>\n",
              "      <td>0.031620</td>\n",
              "      <td>-0.038111</td>\n",
              "      <td>0.019666</td>\n",
              "      <td>0.041710</td>\n",
              "      <td>0.000311</td>\n",
              "      <td>0.025238</td>\n",
              "      <td>0.002764</td>\n",
              "      <td>-0.028453</td>\n",
              "      <td>0.024556</td>\n",
              "      <td>0.020155</td>\n",
              "      <td>-0.013545</td>\n",
              "      <td>0.060894</td>\n",
              "      <td>0.527424</td>\n",
              "      <td>0.284174</td>\n",
              "      <td>0.759860</td>\n",
              "      <td>0.996009</td>\n",
              "      <td>1.000000</td>\n",
              "      <td>0.017287</td>\n",
              "    </tr>\n",
              "    <tr>\n",
              "      <th>class</th>\n",
              "      <td>-0.042863</td>\n",
              "      <td>-0.086285</td>\n",
              "      <td>-0.001571</td>\n",
              "      <td>-0.020632</td>\n",
              "      <td>0.017810</td>\n",
              "      <td>-0.035843</td>\n",
              "      <td>-0.012251</td>\n",
              "      <td>0.015851</td>\n",
              "      <td>0.078626</td>\n",
              "      <td>-0.023872</td>\n",
              "      <td>-0.001886</td>\n",
              "      <td>-0.028257</td>\n",
              "      <td>0.004423</td>\n",
              "      <td>-0.022312</td>\n",
              "      <td>0.097649</td>\n",
              "      <td>0.022703</td>\n",
              "      <td>0.059295</td>\n",
              "      <td>0.017943</td>\n",
              "      <td>0.017287</td>\n",
              "      <td>1.000000</td>\n",
              "    </tr>\n",
              "  </tbody>\n",
              "</table>\n",
              "</div>"
            ],
            "text/plain": [
              "                                Sex  On thyroxine  ...  FTI measured     class\n",
              "Sex                        1.000000     -0.088265  ...      0.046813 -0.042863\n",
              "On thyroxine              -0.088265      1.000000  ...      0.019853 -0.086285\n",
              "query on thyroxine         0.040912      0.002005  ...      0.031620 -0.001571\n",
              "on antithyroid medication -0.034749     -0.000716  ...     -0.038111 -0.020632\n",
              "sick                       0.001917     -0.052083  ...      0.019666  0.017810\n",
              "pregnant                  -0.084223      0.011467  ...      0.041710 -0.035843\n",
              "thyroid surgery           -0.043136      0.041500  ...      0.000311 -0.012251\n",
              "I131 treatment            -0.027264      0.076911  ...      0.025238  0.015851\n",
              "query hypothyroid         -0.034216      0.071890  ...      0.002764  0.078626\n",
              "query hyperthyroid        -0.071517     -0.019451  ...     -0.028453 -0.023872\n",
              "lithium                   -0.027428      0.005159  ...      0.024556 -0.001886\n",
              "goitre                     0.024984     -0.011846  ...      0.020155 -0.028257\n",
              "tumor                     -0.071997     -0.031501  ...     -0.013545  0.004423\n",
              "psych                      0.114167     -0.079169  ...      0.060894 -0.022312\n",
              "TSH measured               0.038770      0.039720  ...      0.527424  0.097649\n",
              "T3 measured                0.096030     -0.159090  ...      0.284174  0.022703\n",
              "TT4 measured               0.074904      0.012118  ...      0.759860  0.059295\n",
              "T4U measured               0.045724      0.020688  ...      0.996009  0.017943\n",
              "FTI measured               0.046813      0.019853  ...      1.000000  0.017287\n",
              "class                     -0.042863     -0.086285  ...      0.017287  1.000000\n",
              "\n",
              "[20 rows x 20 columns]"
            ]
          },
          "metadata": {
            "tags": []
          },
          "execution_count": 21
        }
      ]
    },
    {
      "cell_type": "markdown",
      "metadata": {
        "id": "JXMQ9UaKqyha"
      },
      "source": [
        "## Model training and selection"
      ]
    },
    {
      "cell_type": "markdown",
      "metadata": {
        "id": "Mon3ih88tW8y"
      },
      "source": [
        "Let's use get_dummies on the categorical variables (but not the class value!) to view the column names to select some for our model."
      ]
    },
    {
      "cell_type": "code",
      "metadata": {
        "id": "C4SZZVfGedkL",
        "colab": {
          "base_uri": "https://localhost:8080/",
          "height": 717
        },
        "outputId": "d6fea684-dff3-43a1-ee3a-d4aa0dd26f5a"
      },
      "source": [
        "### Your code here\n",
        "pd.get_dummies(categorical_columns)"
      ],
      "execution_count": null,
      "outputs": [
        {
          "output_type": "execute_result",
          "data": {
            "text/html": [
              "<div>\n",
              "<style scoped>\n",
              "    .dataframe tbody tr th:only-of-type {\n",
              "        vertical-align: middle;\n",
              "    }\n",
              "\n",
              "    .dataframe tbody tr th {\n",
              "        vertical-align: top;\n",
              "    }\n",
              "\n",
              "    .dataframe thead th {\n",
              "        text-align: right;\n",
              "    }\n",
              "</style>\n",
              "<table border=\"1\" class=\"dataframe\">\n",
              "  <thead>\n",
              "    <tr style=\"text-align: right;\">\n",
              "      <th></th>\n",
              "      <th>FTI measured</th>\n",
              "      <th>I131 treatment</th>\n",
              "      <th>On thyroxine</th>\n",
              "      <th>Sex</th>\n",
              "      <th>T3 measured</th>\n",
              "      <th>T4U measured</th>\n",
              "      <th>TSH measured</th>\n",
              "      <th>TT4 measured</th>\n",
              "      <th>goitre</th>\n",
              "      <th>lithium</th>\n",
              "      <th>on antithyroid medication</th>\n",
              "      <th>pregnant</th>\n",
              "      <th>psych</th>\n",
              "      <th>query hyperthyroid</th>\n",
              "      <th>query hypothyroid</th>\n",
              "      <th>query on thyroxine</th>\n",
              "      <th>referral source</th>\n",
              "      <th>sick</th>\n",
              "      <th>thyroid surgery</th>\n",
              "      <th>tumor</th>\n",
              "    </tr>\n",
              "  </thead>\n",
              "  <tbody>\n",
              "    <tr>\n",
              "      <th>0</th>\n",
              "      <td>0</td>\n",
              "      <td>0</td>\n",
              "      <td>0</td>\n",
              "      <td>1</td>\n",
              "      <td>0</td>\n",
              "      <td>0</td>\n",
              "      <td>0</td>\n",
              "      <td>0</td>\n",
              "      <td>0</td>\n",
              "      <td>0</td>\n",
              "      <td>0</td>\n",
              "      <td>0</td>\n",
              "      <td>0</td>\n",
              "      <td>0</td>\n",
              "      <td>0</td>\n",
              "      <td>0</td>\n",
              "      <td>0</td>\n",
              "      <td>0</td>\n",
              "      <td>0</td>\n",
              "      <td>0</td>\n",
              "    </tr>\n",
              "    <tr>\n",
              "      <th>1</th>\n",
              "      <td>0</td>\n",
              "      <td>0</td>\n",
              "      <td>1</td>\n",
              "      <td>0</td>\n",
              "      <td>0</td>\n",
              "      <td>0</td>\n",
              "      <td>0</td>\n",
              "      <td>0</td>\n",
              "      <td>0</td>\n",
              "      <td>0</td>\n",
              "      <td>0</td>\n",
              "      <td>0</td>\n",
              "      <td>0</td>\n",
              "      <td>0</td>\n",
              "      <td>0</td>\n",
              "      <td>0</td>\n",
              "      <td>0</td>\n",
              "      <td>0</td>\n",
              "      <td>0</td>\n",
              "      <td>0</td>\n",
              "    </tr>\n",
              "    <tr>\n",
              "      <th>2</th>\n",
              "      <td>0</td>\n",
              "      <td>0</td>\n",
              "      <td>0</td>\n",
              "      <td>0</td>\n",
              "      <td>0</td>\n",
              "      <td>0</td>\n",
              "      <td>0</td>\n",
              "      <td>0</td>\n",
              "      <td>0</td>\n",
              "      <td>0</td>\n",
              "      <td>0</td>\n",
              "      <td>0</td>\n",
              "      <td>0</td>\n",
              "      <td>0</td>\n",
              "      <td>0</td>\n",
              "      <td>1</td>\n",
              "      <td>0</td>\n",
              "      <td>0</td>\n",
              "      <td>0</td>\n",
              "      <td>0</td>\n",
              "    </tr>\n",
              "    <tr>\n",
              "      <th>3</th>\n",
              "      <td>0</td>\n",
              "      <td>0</td>\n",
              "      <td>0</td>\n",
              "      <td>0</td>\n",
              "      <td>0</td>\n",
              "      <td>0</td>\n",
              "      <td>0</td>\n",
              "      <td>0</td>\n",
              "      <td>0</td>\n",
              "      <td>0</td>\n",
              "      <td>1</td>\n",
              "      <td>0</td>\n",
              "      <td>0</td>\n",
              "      <td>0</td>\n",
              "      <td>0</td>\n",
              "      <td>0</td>\n",
              "      <td>0</td>\n",
              "      <td>0</td>\n",
              "      <td>0</td>\n",
              "      <td>0</td>\n",
              "    </tr>\n",
              "    <tr>\n",
              "      <th>4</th>\n",
              "      <td>0</td>\n",
              "      <td>0</td>\n",
              "      <td>0</td>\n",
              "      <td>0</td>\n",
              "      <td>0</td>\n",
              "      <td>0</td>\n",
              "      <td>0</td>\n",
              "      <td>0</td>\n",
              "      <td>0</td>\n",
              "      <td>0</td>\n",
              "      <td>0</td>\n",
              "      <td>0</td>\n",
              "      <td>0</td>\n",
              "      <td>0</td>\n",
              "      <td>0</td>\n",
              "      <td>0</td>\n",
              "      <td>0</td>\n",
              "      <td>1</td>\n",
              "      <td>0</td>\n",
              "      <td>0</td>\n",
              "    </tr>\n",
              "    <tr>\n",
              "      <th>5</th>\n",
              "      <td>0</td>\n",
              "      <td>0</td>\n",
              "      <td>0</td>\n",
              "      <td>0</td>\n",
              "      <td>0</td>\n",
              "      <td>0</td>\n",
              "      <td>0</td>\n",
              "      <td>0</td>\n",
              "      <td>0</td>\n",
              "      <td>0</td>\n",
              "      <td>0</td>\n",
              "      <td>1</td>\n",
              "      <td>0</td>\n",
              "      <td>0</td>\n",
              "      <td>0</td>\n",
              "      <td>0</td>\n",
              "      <td>0</td>\n",
              "      <td>0</td>\n",
              "      <td>0</td>\n",
              "      <td>0</td>\n",
              "    </tr>\n",
              "    <tr>\n",
              "      <th>6</th>\n",
              "      <td>0</td>\n",
              "      <td>0</td>\n",
              "      <td>0</td>\n",
              "      <td>0</td>\n",
              "      <td>0</td>\n",
              "      <td>0</td>\n",
              "      <td>0</td>\n",
              "      <td>0</td>\n",
              "      <td>0</td>\n",
              "      <td>0</td>\n",
              "      <td>0</td>\n",
              "      <td>0</td>\n",
              "      <td>0</td>\n",
              "      <td>0</td>\n",
              "      <td>0</td>\n",
              "      <td>0</td>\n",
              "      <td>0</td>\n",
              "      <td>0</td>\n",
              "      <td>1</td>\n",
              "      <td>0</td>\n",
              "    </tr>\n",
              "    <tr>\n",
              "      <th>7</th>\n",
              "      <td>0</td>\n",
              "      <td>1</td>\n",
              "      <td>0</td>\n",
              "      <td>0</td>\n",
              "      <td>0</td>\n",
              "      <td>0</td>\n",
              "      <td>0</td>\n",
              "      <td>0</td>\n",
              "      <td>0</td>\n",
              "      <td>0</td>\n",
              "      <td>0</td>\n",
              "      <td>0</td>\n",
              "      <td>0</td>\n",
              "      <td>0</td>\n",
              "      <td>0</td>\n",
              "      <td>0</td>\n",
              "      <td>0</td>\n",
              "      <td>0</td>\n",
              "      <td>0</td>\n",
              "      <td>0</td>\n",
              "    </tr>\n",
              "    <tr>\n",
              "      <th>8</th>\n",
              "      <td>0</td>\n",
              "      <td>0</td>\n",
              "      <td>0</td>\n",
              "      <td>0</td>\n",
              "      <td>0</td>\n",
              "      <td>0</td>\n",
              "      <td>0</td>\n",
              "      <td>0</td>\n",
              "      <td>0</td>\n",
              "      <td>0</td>\n",
              "      <td>0</td>\n",
              "      <td>0</td>\n",
              "      <td>0</td>\n",
              "      <td>0</td>\n",
              "      <td>1</td>\n",
              "      <td>0</td>\n",
              "      <td>0</td>\n",
              "      <td>0</td>\n",
              "      <td>0</td>\n",
              "      <td>0</td>\n",
              "    </tr>\n",
              "    <tr>\n",
              "      <th>9</th>\n",
              "      <td>0</td>\n",
              "      <td>0</td>\n",
              "      <td>0</td>\n",
              "      <td>0</td>\n",
              "      <td>0</td>\n",
              "      <td>0</td>\n",
              "      <td>0</td>\n",
              "      <td>0</td>\n",
              "      <td>0</td>\n",
              "      <td>0</td>\n",
              "      <td>0</td>\n",
              "      <td>0</td>\n",
              "      <td>0</td>\n",
              "      <td>1</td>\n",
              "      <td>0</td>\n",
              "      <td>0</td>\n",
              "      <td>0</td>\n",
              "      <td>0</td>\n",
              "      <td>0</td>\n",
              "      <td>0</td>\n",
              "    </tr>\n",
              "    <tr>\n",
              "      <th>10</th>\n",
              "      <td>0</td>\n",
              "      <td>0</td>\n",
              "      <td>0</td>\n",
              "      <td>0</td>\n",
              "      <td>0</td>\n",
              "      <td>0</td>\n",
              "      <td>0</td>\n",
              "      <td>0</td>\n",
              "      <td>0</td>\n",
              "      <td>1</td>\n",
              "      <td>0</td>\n",
              "      <td>0</td>\n",
              "      <td>0</td>\n",
              "      <td>0</td>\n",
              "      <td>0</td>\n",
              "      <td>0</td>\n",
              "      <td>0</td>\n",
              "      <td>0</td>\n",
              "      <td>0</td>\n",
              "      <td>0</td>\n",
              "    </tr>\n",
              "    <tr>\n",
              "      <th>11</th>\n",
              "      <td>0</td>\n",
              "      <td>0</td>\n",
              "      <td>0</td>\n",
              "      <td>0</td>\n",
              "      <td>0</td>\n",
              "      <td>0</td>\n",
              "      <td>0</td>\n",
              "      <td>0</td>\n",
              "      <td>1</td>\n",
              "      <td>0</td>\n",
              "      <td>0</td>\n",
              "      <td>0</td>\n",
              "      <td>0</td>\n",
              "      <td>0</td>\n",
              "      <td>0</td>\n",
              "      <td>0</td>\n",
              "      <td>0</td>\n",
              "      <td>0</td>\n",
              "      <td>0</td>\n",
              "      <td>0</td>\n",
              "    </tr>\n",
              "    <tr>\n",
              "      <th>12</th>\n",
              "      <td>0</td>\n",
              "      <td>0</td>\n",
              "      <td>0</td>\n",
              "      <td>0</td>\n",
              "      <td>0</td>\n",
              "      <td>0</td>\n",
              "      <td>0</td>\n",
              "      <td>0</td>\n",
              "      <td>0</td>\n",
              "      <td>0</td>\n",
              "      <td>0</td>\n",
              "      <td>0</td>\n",
              "      <td>0</td>\n",
              "      <td>0</td>\n",
              "      <td>0</td>\n",
              "      <td>0</td>\n",
              "      <td>0</td>\n",
              "      <td>0</td>\n",
              "      <td>0</td>\n",
              "      <td>1</td>\n",
              "    </tr>\n",
              "    <tr>\n",
              "      <th>13</th>\n",
              "      <td>0</td>\n",
              "      <td>0</td>\n",
              "      <td>0</td>\n",
              "      <td>0</td>\n",
              "      <td>0</td>\n",
              "      <td>0</td>\n",
              "      <td>0</td>\n",
              "      <td>0</td>\n",
              "      <td>0</td>\n",
              "      <td>0</td>\n",
              "      <td>0</td>\n",
              "      <td>0</td>\n",
              "      <td>1</td>\n",
              "      <td>0</td>\n",
              "      <td>0</td>\n",
              "      <td>0</td>\n",
              "      <td>0</td>\n",
              "      <td>0</td>\n",
              "      <td>0</td>\n",
              "      <td>0</td>\n",
              "    </tr>\n",
              "    <tr>\n",
              "      <th>14</th>\n",
              "      <td>0</td>\n",
              "      <td>0</td>\n",
              "      <td>0</td>\n",
              "      <td>0</td>\n",
              "      <td>0</td>\n",
              "      <td>0</td>\n",
              "      <td>1</td>\n",
              "      <td>0</td>\n",
              "      <td>0</td>\n",
              "      <td>0</td>\n",
              "      <td>0</td>\n",
              "      <td>0</td>\n",
              "      <td>0</td>\n",
              "      <td>0</td>\n",
              "      <td>0</td>\n",
              "      <td>0</td>\n",
              "      <td>0</td>\n",
              "      <td>0</td>\n",
              "      <td>0</td>\n",
              "      <td>0</td>\n",
              "    </tr>\n",
              "    <tr>\n",
              "      <th>15</th>\n",
              "      <td>0</td>\n",
              "      <td>0</td>\n",
              "      <td>0</td>\n",
              "      <td>0</td>\n",
              "      <td>1</td>\n",
              "      <td>0</td>\n",
              "      <td>0</td>\n",
              "      <td>0</td>\n",
              "      <td>0</td>\n",
              "      <td>0</td>\n",
              "      <td>0</td>\n",
              "      <td>0</td>\n",
              "      <td>0</td>\n",
              "      <td>0</td>\n",
              "      <td>0</td>\n",
              "      <td>0</td>\n",
              "      <td>0</td>\n",
              "      <td>0</td>\n",
              "      <td>0</td>\n",
              "      <td>0</td>\n",
              "    </tr>\n",
              "    <tr>\n",
              "      <th>16</th>\n",
              "      <td>0</td>\n",
              "      <td>0</td>\n",
              "      <td>0</td>\n",
              "      <td>0</td>\n",
              "      <td>0</td>\n",
              "      <td>0</td>\n",
              "      <td>0</td>\n",
              "      <td>1</td>\n",
              "      <td>0</td>\n",
              "      <td>0</td>\n",
              "      <td>0</td>\n",
              "      <td>0</td>\n",
              "      <td>0</td>\n",
              "      <td>0</td>\n",
              "      <td>0</td>\n",
              "      <td>0</td>\n",
              "      <td>0</td>\n",
              "      <td>0</td>\n",
              "      <td>0</td>\n",
              "      <td>0</td>\n",
              "    </tr>\n",
              "    <tr>\n",
              "      <th>17</th>\n",
              "      <td>0</td>\n",
              "      <td>0</td>\n",
              "      <td>0</td>\n",
              "      <td>0</td>\n",
              "      <td>0</td>\n",
              "      <td>1</td>\n",
              "      <td>0</td>\n",
              "      <td>0</td>\n",
              "      <td>0</td>\n",
              "      <td>0</td>\n",
              "      <td>0</td>\n",
              "      <td>0</td>\n",
              "      <td>0</td>\n",
              "      <td>0</td>\n",
              "      <td>0</td>\n",
              "      <td>0</td>\n",
              "      <td>0</td>\n",
              "      <td>0</td>\n",
              "      <td>0</td>\n",
              "      <td>0</td>\n",
              "    </tr>\n",
              "    <tr>\n",
              "      <th>18</th>\n",
              "      <td>1</td>\n",
              "      <td>0</td>\n",
              "      <td>0</td>\n",
              "      <td>0</td>\n",
              "      <td>0</td>\n",
              "      <td>0</td>\n",
              "      <td>0</td>\n",
              "      <td>0</td>\n",
              "      <td>0</td>\n",
              "      <td>0</td>\n",
              "      <td>0</td>\n",
              "      <td>0</td>\n",
              "      <td>0</td>\n",
              "      <td>0</td>\n",
              "      <td>0</td>\n",
              "      <td>0</td>\n",
              "      <td>0</td>\n",
              "      <td>0</td>\n",
              "      <td>0</td>\n",
              "      <td>0</td>\n",
              "    </tr>\n",
              "    <tr>\n",
              "      <th>19</th>\n",
              "      <td>0</td>\n",
              "      <td>0</td>\n",
              "      <td>0</td>\n",
              "      <td>0</td>\n",
              "      <td>0</td>\n",
              "      <td>0</td>\n",
              "      <td>0</td>\n",
              "      <td>0</td>\n",
              "      <td>0</td>\n",
              "      <td>0</td>\n",
              "      <td>0</td>\n",
              "      <td>0</td>\n",
              "      <td>0</td>\n",
              "      <td>0</td>\n",
              "      <td>0</td>\n",
              "      <td>0</td>\n",
              "      <td>1</td>\n",
              "      <td>0</td>\n",
              "      <td>0</td>\n",
              "      <td>0</td>\n",
              "    </tr>\n",
              "  </tbody>\n",
              "</table>\n",
              "</div>"
            ],
            "text/plain": [
              "    FTI measured  I131 treatment  On thyroxine  ...  sick  thyroid surgery  tumor\n",
              "0              0               0             0  ...     0                0      0\n",
              "1              0               0             1  ...     0                0      0\n",
              "2              0               0             0  ...     0                0      0\n",
              "3              0               0             0  ...     0                0      0\n",
              "4              0               0             0  ...     1                0      0\n",
              "5              0               0             0  ...     0                0      0\n",
              "6              0               0             0  ...     0                1      0\n",
              "7              0               1             0  ...     0                0      0\n",
              "8              0               0             0  ...     0                0      0\n",
              "9              0               0             0  ...     0                0      0\n",
              "10             0               0             0  ...     0                0      0\n",
              "11             0               0             0  ...     0                0      0\n",
              "12             0               0             0  ...     0                0      1\n",
              "13             0               0             0  ...     0                0      0\n",
              "14             0               0             0  ...     0                0      0\n",
              "15             0               0             0  ...     0                0      0\n",
              "16             0               0             0  ...     0                0      0\n",
              "17             0               0             0  ...     0                0      0\n",
              "18             1               0             0  ...     0                0      0\n",
              "19             0               0             0  ...     0                0      0\n",
              "\n",
              "[20 rows x 20 columns]"
            ]
          },
          "metadata": {
            "tags": []
          },
          "execution_count": 22
        }
      ]
    },
    {
      "cell_type": "markdown",
      "metadata": {
        "id": "4yEeqjv19hCX"
      },
      "source": [
        "All right, let's now split our data into training and testing in an 80-20 split. For consistency, let's all use a seed of 8675309."
      ]
    },
    {
      "cell_type": "code",
      "metadata": {
        "id": "GQqlCTGntXCX"
      },
      "source": [
        "from sklearn.model_selection import train_test_split\n",
        "\n",
        "\n",
        "from sklearn.model_selection import train_test_split\n",
        "\n",
        "X = dataset.drop(['class'], axis=1)\n",
        "y = dataset['class']\n",
        "\n",
        "test_size = 0.2\n",
        "#split X and y of data into training and test sets\n",
        "X_train, X_test, y_train, y_test = train_test_split(dataset[X_cols], dataset[y_col], test_size=test_size, random_state=7)\n",
        "\n",
        "# further split X and y of training into training and validation sets\n",
        "X_train, X_val, y_train, y_val = train_test_split(X_train, y_train, test_size=0.2, random_state=7)\n",
        "\n",
        "from sklearn.utils import resample\n",
        "#combine them train data back for resampling\n",
        "train_data = pd.concat([X_train, y_train], axis=1)\n",
        "\n",
        "# separate minority and majority classes\n",
        "negative = train_data[train_data['class']==0]\n",
        "positive = train_data[train_data['class']==1]\n",
        "\n",
        "# upsample minority\n",
        "pos_upsampled = resample(positive,\n",
        " replace=True, # sample with replacement\n",
        " n_samples=len(negative), # match number in majority class\n",
        " random_state=27) # reproducible results\n",
        "\n",
        "# combine majority and upsampled minority\n",
        "upsampled = pd.concat([negative, pos_upsampled])\n",
        "\n",
        "# check new class counts\n",
        "upsampled['class'].value_counts()\n",
        "\n",
        "\n",
        "#New x_train and Y_train\n",
        "y_train = upsampled['class']\n",
        "X_train = upsampled.drop('class', axis = 1)\n"
      ],
      "execution_count": null,
      "outputs": []
    },
    {
      "cell_type": "code",
      "metadata": {
        "id": "smryayLnG0pJ"
      },
      "source": [
        "from sklearn.preprocessing import StandardScaler\n",
        "\n",
        "scaler = StandardScaler()\n",
        "for i in list(X_train):\n",
        "    feature_data_train = X_train[i].values.reshape(-1, 1)\n",
        "    scaler.fit(feature_data_train)\n",
        "    X_train[i] = scaler.transform(feature_data_train)\n",
        "\n",
        "for j in list(X_test):\n",
        "    feature_data_test = X_test[j].values.reshape(-1, 1)\n",
        "    scaler.fit(feature_data_test)\n",
        "    X_test[j] = scaler.transform(feature_data_test)\n",
        "    \n",
        "for k in list(X_val):\n",
        "    feature_data_val = X_val[k].values.reshape(-1, 1)\n",
        "    scaler.fit(feature_data_val)\n",
        "    X_val[k] = scaler.transform(feature_data_val)"
      ],
      "execution_count": null,
      "outputs": []
    },
    {
      "cell_type": "markdown",
      "metadata": {
        "id": "6KGUCXBE-OFy"
      },
      "source": [
        "For reusability, let's make a logistic regression function that will take our training and testing data as arguments. Inside the function, build a model on your training data, fit it with your training class data, and return a list of your predictions."
      ]
    },
    {
      "cell_type": "code",
      "metadata": {
        "id": "DawvoHd7lnG9"
      },
      "source": [
        "from sklearn import metrics\n",
        "from sklearn.linear_model import LogisticRegression\n",
        "\n",
        "def log_reg(train_X,train_Y,test_X,test_Y):\n",
        "  from sklearn.linear_model import LogisticRegression\n",
        "  logreg = LogisticRegression()\n",
        "  logreg.fit(X_train, y_train)\n",
        "  y_train_pred=logreg.predict(X_train)\n",
        "  y_val_pred=logreg.predict(X_val)\n",
        "  y_train_pred = y_train_pred.tolist()\n",
        "  print(y_train_pred)\n",
        "  return y_train_pred\n"
      ],
      "execution_count": null,
      "outputs": []
    },
    {
      "cell_type": "markdown",
      "metadata": {
        "id": "JR8xu_VVsygN"
      },
      "source": [
        "Fantastic, we have just built a logistic regression model! Let's go see how well it performs."
      ]
    },
    {
      "cell_type": "markdown",
      "metadata": {
        "id": "gAz096POwSRJ"
      },
      "source": [
        "### Model evaluation"
      ]
    },
    {
      "cell_type": "markdown",
      "metadata": {
        "id": "570duVNhrTZh"
      },
      "source": [
        "To start, let's establish the baseline performance. This is important because it provides a starting point of comparison for later evaluation methods, like accuracy.\n",
        "\n",
        "A good baseline model to use is the Zero Rule algorithm. In classification problems, it simply predicts the class value with the greatest number of instances every time."
      ]
    },
    {
      "cell_type": "code",
      "metadata": {
        "id": "fwvqucK_Yg-2"
      },
      "source": [
        "def zero_rule_algorithm_classification(train,test):\n",
        "  output_values = [row[-1] for row in train]\n",
        "  prediction = max(set(output_values), key=output_values.count)\n",
        "  predicted = [prediction for i in range(len(test))]\n",
        "  print(predicted)\n",
        "  return predicted"
      ],
      "execution_count": null,
      "outputs": []
    },
    {
      "cell_type": "markdown",
      "metadata": {
        "id": "I_nExUgUYll5"
      },
      "source": [
        "Get your baseline performance by calculating the accuracy of your Zero Rule algorithm."
      ]
    },
    {
      "cell_type": "code",
      "metadata": {
        "id": "zs0M8OdtYidB",
        "colab": {
          "base_uri": "https://localhost:8080/",
          "height": 72
        },
        "outputId": "bd927b1e-a1a0-45f8-b645-2a2bc92bc201"
      },
      "source": [
        "from sklearn.metrics import accuracy_score\n",
        "#creates an array of Nones the size of y_val\n",
        "y_val_pred = np.empty(len(y_val), dtype=object) \n",
        "\n",
        "#reshapes the None array\n",
        "y_val_pred = y_val_pred.reshape(-1,1)\n",
        "y_train_reshaped = y_train.values.reshape(-1,1)\n",
        "\n",
        "#predicts_y_val\n",
        "y_val_pred = zero_rule_algorithm_classification(y_train_reshaped,y_val_pred)\n",
        "\n",
        "print('Validation accuracy: ', accuracy_score(y_val, y_val_pred)*100)"
      ],
      "execution_count": null,
      "outputs": [
        {
          "output_type": "stream",
          "text": [
            "[0, 0, 0, 0, 0, 0, 0, 0, 0, 0, 0, 0, 0, 0, 0, 0, 0, 0, 0, 0, 0, 0, 0, 0, 0, 0, 0, 0, 0, 0, 0, 0, 0, 0, 0, 0, 0, 0, 0, 0, 0, 0, 0, 0, 0, 0, 0, 0, 0, 0, 0, 0, 0, 0, 0, 0, 0, 0, 0, 0, 0, 0, 0, 0, 0, 0, 0, 0, 0, 0, 0, 0, 0, 0, 0, 0, 0, 0, 0, 0, 0, 0, 0, 0, 0, 0, 0, 0, 0, 0, 0, 0, 0, 0, 0, 0, 0, 0, 0, 0, 0, 0, 0, 0, 0, 0, 0, 0, 0, 0, 0, 0, 0, 0, 0, 0, 0, 0, 0, 0, 0, 0, 0, 0, 0, 0, 0, 0, 0, 0, 0, 0, 0, 0, 0, 0, 0, 0, 0, 0, 0, 0, 0, 0, 0, 0, 0, 0, 0, 0, 0, 0, 0, 0, 0, 0, 0, 0, 0, 0, 0, 0, 0, 0, 0, 0, 0, 0, 0, 0, 0, 0, 0, 0, 0, 0, 0, 0, 0, 0, 0, 0, 0, 0, 0, 0, 0, 0, 0, 0, 0, 0, 0, 0, 0, 0, 0, 0, 0, 0, 0, 0, 0, 0, 0, 0, 0, 0, 0, 0, 0, 0, 0, 0, 0, 0, 0, 0, 0, 0, 0, 0, 0, 0, 0, 0, 0, 0, 0, 0, 0, 0, 0, 0, 0, 0, 0, 0, 0, 0, 0, 0, 0, 0, 0, 0, 0, 0, 0, 0, 0, 0, 0, 0, 0, 0, 0, 0, 0, 0, 0, 0, 0, 0, 0, 0, 0, 0, 0, 0, 0, 0, 0, 0, 0, 0, 0, 0, 0, 0, 0, 0, 0, 0, 0, 0, 0, 0, 0, 0, 0, 0, 0, 0, 0, 0, 0, 0, 0, 0, 0, 0, 0, 0, 0, 0, 0, 0, 0, 0, 0, 0, 0, 0, 0, 0, 0, 0, 0, 0, 0, 0, 0, 0, 0, 0, 0, 0, 0, 0, 0, 0, 0, 0, 0, 0, 0, 0, 0, 0, 0, 0, 0, 0, 0, 0, 0, 0, 0, 0, 0, 0, 0, 0, 0, 0, 0, 0, 0, 0, 0, 0, 0, 0, 0, 0, 0, 0, 0, 0, 0, 0, 0, 0, 0, 0, 0, 0, 0, 0, 0, 0, 0, 0, 0, 0, 0, 0, 0, 0, 0, 0, 0, 0, 0, 0, 0, 0, 0, 0, 0, 0, 0, 0, 0, 0, 0, 0, 0, 0, 0, 0, 0, 0, 0, 0, 0, 0, 0, 0, 0, 0, 0, 0, 0, 0, 0, 0, 0, 0, 0]\n",
            "Validation accuracy:  91.415313225058\n"
          ],
          "name": "stdout"
        }
      ]
    },
    {
      "cell_type": "markdown",
      "metadata": {
        "id": "WksirqfT5Ecw"
      },
      "source": [
        "So maybe accuracy isn't the best performance measure for this dataset. As you've seen already, even when the models predict \"negative\" for all the records, we could already achieve a ~92% accuracy. However, that also implies we incorrectly predicted 100% of the positive cases, which in the context of this problem, is fatal.\n",
        "\n",
        "Thankfully, it isn't the only way to evaluate your model. Let's start by creating a confusion matrix using the logistic regression function you built earlier."
      ]
    },
    {
      "cell_type": "code",
      "metadata": {
        "id": "DSS7JdYjaBWh",
        "colab": {
          "base_uri": "https://localhost:8080/",
          "height": 1000
        },
        "outputId": "1fec4c4e-dc98-420d-b7da-12390944c72e"
      },
      "source": [
        "from sklearn.metrics import confusion_matrix\n",
        "import matplotlib.pyplot as plt\n",
        "\n",
        "# numerical\n",
        "print('Confusion Matrix:')\n",
        "labels = [0,1]\n",
        "cm = metrics.confusion_matrix(y_val, y_val_pred, labels)\n",
        "print(cm)\n",
        "\n",
        "# # Normalized confusion matrix\n",
        "# print('\\nNormalized Confusion Matrix:')\n",
        "# cm_norm = cm.astype('float') / cm.sum(axis=1)[:, np.newaxis]\n",
        "# print(cm_norm)\n",
        "\n",
        "# Visualize the confusion matrix\n",
        "def plot_cmatrix(cm,labels,title='Confusion Matrix'):\n",
        "  fig = plt.figure()\n",
        "  ax = fig.add_subplot(111)\n",
        "  cax = ax.matshow(cm,cmap='Reds')\n",
        "  plt.title('\\n'+title+'\\n', fontsize=20)\n",
        "  fig.colorbar(cax)\n",
        "  ax.set_xticklabels([''] + labels, fontsize=16)\n",
        "  ax.set_yticklabels([''] + labels, fontsize=16)\n",
        "  plt.xlabel('Predicted', fontsize=16)\n",
        "  plt.ylabel('True', fontsize=16)\n",
        "  plt.show()\n",
        "  \n",
        "plot_cmatrix(cm,labels)\n",
        "# plot_cmatrix(cm_norm,labels,title='Normalized Confusion Matrix')"
      ],
      "execution_count": null,
      "outputs": [
        {
          "output_type": "stream",
          "text": [
            "Confusion Matrix:\n",
            "[[394   0]\n",
            " [ 37   0]]\n"
          ],
          "name": "stdout"
        },
        {
          "output_type": "display_data",
          "data": {
            "image/png": "[encoded data removed]",
            "text/plain": [
              "<Figure size 1944x1944 with 2 Axes>"
            ]
          },
          "metadata": {
            "tags": []
          }
        }
      ]
    },
    {
      "cell_type": "markdown",
      "metadata": {
        "id": "z0JPOHmQn8N6"
      },
      "source": [
        "Hopefully you remember our discussion of the Area Under the Receiver Operator Curve metric. This can measure the accuracy of a test to discriminate diseased cases from normal cases.\n",
        "\n",
        "When you consider the results of a particular test in two populations, one population with a disease, the other population without the disease, you will rarely observe a perfect separation between the two groups. Hence, the overlapping areas in the diagram below (FN, FP).\n",
        "\n",
        "To review, on a Receiver Operating Characteristic (ROC) curve, the true positive rate is plotted in function of the false positive rate for different cut-off points. Each point on the ROC curve represents a sensitivity/specificity pair corresponding to a particular decision threshold. A test with perfect discrimination (no overlap in the two distributions) has a ROC curve that passes through the upper left corner. Therefore the closer the ROC curve is to the upper left corner, the higher the overall accuracy of the test.\n",
        "\n",
        "![alt text](https://www.medcalc.org/manual/_help/images/roc_intro1.png)\n",
        "\n",
        "\n",
        "\n"
      ]
    },
    {
      "cell_type": "markdown",
      "metadata": {
        "id": "cvTWQTcycBEp"
      },
      "source": [
        "Now, to graph the AUROC curve, we will need to predict probabilities of choosing a specific class value rather than the class value itself. Make a new logistic regression model that does so."
      ]
    },
    {
      "cell_type": "code",
      "metadata": {
        "id": "Ur0s4m3kg3H-",
        "colab": {
          "base_uri": "https://localhost:8080/",
          "height": 139
        },
        "outputId": "a058cf72-f109-47ce-c120-4d33d8c46a52"
      },
      "source": [
        "from sklearn.linear_model import LogisticRegression\n",
        "### Your code here\n",
        "from sklearn.linear_model import LogisticRegression\n",
        "model = LogisticRegression()\n",
        "model.fit(X_train, y_train)\n",
        "\n",
        "y_train_pred=model.predict(X_train)\n",
        "y_val_pred=model.predict(X_val)\n",
        "\n",
        "print(\"Training accuracy: \", accuracy_score(y_train, y_train_pred) *100)\n",
        "print('Validation accuracy: ', accuracy_score(y_val, y_val_pred) *100)\n",
        "\n",
        "### Your code here\n",
        "# Predict class label probabilities\n",
        "y_val_prob = model.predict_proba(X_val)\n",
        "\n",
        "# Output predicted and true values for the first validation point\n",
        "print('Probabilities:\\n',y_val_prob[0])\n",
        "\n",
        "print('\\nTrue Value:\\n',y_val.values[0])"
      ],
      "execution_count": null,
      "outputs": [
        {
          "output_type": "stream",
          "text": [
            "Training accuracy:  55.41139240506329\n",
            "Validation accuracy:  50.11600928074246\n",
            "Probabilities:\n",
            " [0.45201642 0.54798358]\n",
            "\n",
            "True Value:\n",
            " 0\n"
          ],
          "name": "stdout"
        }
      ]
    },
    {
      "cell_type": "markdown",
      "metadata": {
        "id": "ncyANs0U-VuT"
      },
      "source": [
        "Notes: \n",
        "The above probabilities mean that the model predicts there is a ~6.46% probability that this entry belongs to class label 1"
      ]
    },
    {
      "cell_type": "markdown",
      "metadata": {
        "id": "Xm0yv6wmDnQz"
      },
      "source": [
        "Now calculate the area under the receiver operator curve with your predictions."
      ]
    },
    {
      "cell_type": "code",
      "metadata": {
        "id": "0xRxhlqbcc-I"
      },
      "source": [
        "from sklearn import metrics\n",
        "# Calculate the FPR and TPR at varying thresholds (assume label 1 is the \"postive\" class)\n",
        "fpr, tpr, thresholds = metrics.roc_curve(y_val, y_val_prob[:,1])\n",
        "# Calculate the area under the ROC curve\n",
        "roc_auc = metrics.auc(fpr, tpr)"
      ],
      "execution_count": null,
      "outputs": []
    },
    {
      "cell_type": "markdown",
      "metadata": {
        "id": "w3hnQOGUczOn"
      },
      "source": [
        "Now graph the ROC curve using matplotlib, fully labeled."
      ]
    },
    {
      "cell_type": "code",
      "metadata": {
        "id": "JA-ieOGua55H",
        "colab": {
          "base_uri": "https://localhost:8080/",
          "height": 410
        },
        "outputId": "a6653a2a-22e9-44a5-9010-76d2f118f352"
      },
      "source": [
        "import matplotlib.pyplot as plt\n",
        "# Plot the ROC curve\n",
        "plt.figure(figsize=(6,6))\n",
        "lw = 2\n",
        "plt.plot(fpr, tpr, color='darkorange',\n",
        "         lw=lw, label='ROC curve (area = %0.2f)' % roc_auc)\n",
        "plt.plot([0, 1], [0, 1], color='navy', lw=lw, linestyle='--')\n",
        "plt.xlim([0.0, 1.0])\n",
        "plt.ylim([0.0, 1.0])\n",
        "plt.xlabel('False Positive Rate')\n",
        "plt.ylabel('True Positive Rate')\n",
        "plt.title('Receiver operating characteristic')\n",
        "plt.legend(loc=\"lower right\")\n",
        "plt.show()"
      ],
      "execution_count": null,
      "outputs": [
        {
          "output_type": "display_data",
          "data": {
            "image/png": "[encoded data removed]",
            "text/plain": [
              "<Figure size 432x432 with 1 Axes>"
            ]
          },
          "metadata": {
            "tags": []
          }
        }
      ]
    },
    {
      "cell_type": "markdown",
      "metadata": {
        "id": "5D4BtDZV6fxV"
      },
      "source": [
        "In conclusion, it looks like this model performed pretty bad. It's probably best to try out different columns or perhaps use a different model before we submit our model for scoring. Get creative!"
      ]
    },
    {
      "cell_type": "code",
      "metadata": {
        "id": "cSdZEiLMTXdB"
      },
      "source": [
        "## Your code here"
      ],
      "execution_count": null,
      "outputs": []
    },
    {
      "cell_type": "markdown",
      "metadata": {
        "id": "5JW3myd8LHJy"
      },
      "source": [
        "## Submitting your Model"
      ]
    },
    {
      "cell_type": "markdown",
      "metadata": {
        "id": "Wuexs1daLNBY"
      },
      "source": [
        "Once you believe to have found the best classifier, run your classifier on the test data and make a pickle file containing of your predictions contained a pandas dataframe.\n",
        "\n",
        "This pandas dataframe will contain three columns for your binary classifier (or 5 columns for the multiclass classifier): the first column should be your model's \"best guess\" for each patient (either 0 or 1, negative or positive) and the last two columns should be the probability the patient would be classified as either a 0 or 1.\n",
        "\n",
        "(see below for reference)"
      ]
    },
    {
      "cell_type": "code",
      "metadata": {
        "id": "GkZOEgg3m3g1",
        "colab": {
          "base_uri": "https://localhost:8080/",
          "height": 17
        },
        "outputId": "e93df80a-1477-4c5e-fe82-211952f82106"
      },
      "source": [
        "#pickling example\n",
        "import pickle\n",
        "predictions=pd.DataFrame({\"guesses\":[0,1,0,1],\"prob_neg\":[.75,.15,.63,.20],\"prob_pos\":[.25,.85,.27,.80]})\n",
        "prediction_pickle_path = 'prediction_pickle.pkl'\n",
        "\n",
        "from google.colab import files\n",
        "# Create an variable to pickle and open it in write mode\n",
        "prediction_pickle = open(prediction_pickle_path, 'wb')\n",
        "pickle.dump(predictions, prediction_pickle)\n",
        "files.download(prediction_pickle_path)\n",
        "prediction_pickle.close()"
      ],
      "execution_count": null,
      "outputs": [
        {
          "output_type": "display_data",
          "data": {
            "application/javascript": [
              "\n",
              "    async function download(id, filename, size) {\n",
              "      if (!google.colab.kernel.accessAllowed) {\n",
              "        return;\n",
              "      }\n",
              "      const div = document.createElement('div');\n",
              "      const label = document.createElement('label');\n",
              "      label.textContent = `Downloading \"${filename}\": `;\n",
              "      div.appendChild(label);\n",
              "      const progress = document.createElement('progress');\n",
              "      progress.max = size;\n",
              "      div.appendChild(progress);\n",
              "      document.body.appendChild(div);\n",
              "\n",
              "      const buffers = [];\n",
              "      let downloaded = 0;\n",
              "\n",
              "      const channel = await google.colab.kernel.comms.open(id);\n",
              "      // Send a message to notify the kernel that we're ready.\n",
              "      channel.send({})\n",
              "\n",
              "      for await (const message of channel.messages) {\n",
              "        // Send a message to notify the kernel that we're ready.\n",
              "        channel.send({})\n",
              "        if (message.buffers) {\n",
              "          for (const buffer of message.buffers) {\n",
              "            buffers.push(buffer);\n",
              "            downloaded += buffer.byteLength;\n",
              "            progress.value = downloaded;\n",
              "          }\n",
              "        }\n",
              "      }\n",
              "      const blob = new Blob(buffers, {type: 'application/binary'});\n",
              "      const a = document.createElement('a');\n",
              "      a.href = window.URL.createObjectURL(blob);\n",
              "      a.download = filename;\n",
              "      div.appendChild(a);\n",
              "      a.click();\n",
              "      div.remove();\n",
              "    }\n",
              "  "
            ],
            "text/plain": [
              "<IPython.core.display.Javascript object>"
            ]
          },
          "metadata": {
            "tags": []
          }
        },
        {
          "output_type": "display_data",
          "data": {
            "application/javascript": [
              "download(\"download_0976987f-d7ae-45ee-b801-ce39100e9f75\", \"prediction_pickle.pkl\", 0)"
            ],
            "text/plain": [
              "<IPython.core.display.Javascript object>"
            ]
          },
          "metadata": {
            "tags": []
          }
        }
      ]
    },
    {
      "cell_type": "code",
      "metadata": {
        "id": "Dj6_AB6LnjrW",
        "colab": {
          "base_uri": "https://localhost:8080/",
          "height": 104
        },
        "outputId": "ae02b574-4128-4c1e-e72e-6b2c032a3a4f"
      },
      "source": [
        "prediction_unpickle = open(prediction_pickle_path, 'rb')\n",
        " \n",
        "# load the unpickle object into a variable\n",
        "predictions = pickle.load(prediction_unpickle)\n",
        " \n",
        "print(predictions)"
      ],
      "execution_count": null,
      "outputs": [
        {
          "output_type": "stream",
          "text": [
            "   guesses  prob_neg  prob_pos\n",
            "0        0      0.75      0.25\n",
            "1        1      0.15      0.85\n",
            "2        0      0.63      0.27\n",
            "3        1      0.20      0.80\n"
          ],
          "name": "stdout"
        }
      ]
    },
    {
      "cell_type": "markdown",
      "metadata": {
        "id": "HgFVRWQzXFWl"
      },
      "source": [
        "We will compare your guesses with the true classifications to score your model using the AUC metric."
      ]
    },
    {
      "cell_type": "markdown",
      "metadata": {
        "id": "GW27RtFNttQA"
      },
      "source": [
        "## Presenting your Model"
      ]
    },
    {
      "cell_type": "markdown",
      "metadata": {
        "id": "K8A1npNnUYey"
      },
      "source": [
        "Finally, we would like you to be able to present your model to the class. Prepare a notebook with the following things:\n",
        "\n",
        "* **Features Chosen:** a list of the features used in your model, and an explanation of how you chose them.\n",
        "* **Type of Model:** an explanation of the model type, parameters used, and why.\n",
        "* **Evaluation:** at least one plot showing an evaluation of your model against a validation set. You can use a confusion matrix, AUROC, or another metric of your choice.\n",
        "\n",
        "Feel free to include one or two additional plots that describe your process and/or model if you think that would be helpful."
      ]
    },
    {
      "cell_type": "markdown",
      "metadata": {
        "id": "w66lpbB6Qv_M"
      },
      "source": [
        "## Moving to the Next Level"
      ]
    },
    {
      "cell_type": "markdown",
      "metadata": {
        "id": "X-HZ12lht_so"
      },
      "source": [
        "For those that finish early, remember how we converted the class values into the binary of \"negative\" and \"positive\"? Now try tackling the multiclass classifier (predicting the different types of positive hypothyroid cases instead of simply negative or positive)! \n",
        "\n",
        "The same rules apply!"
      ]
    },
    {
      "cell_type": "code",
      "metadata": {
        "id": "tW_fpPOXAuGz"
      },
      "source": [
        ""
      ],
      "execution_count": null,
      "outputs": []
    }
  ]
}